{
 "cells": [
  {
   "cell_type": "code",
   "execution_count": 2,
   "metadata": {},
   "outputs": [],
   "source": [
    "import pandas as pd"
   ]
  },
  {
   "cell_type": "code",
   "execution_count": 3,
   "metadata": {},
   "outputs": [],
   "source": [
    "data_dir = \"https://dlsun.github.io/pods/data/\"\n",
    "df_titanic = pd.read_csv(data_dir + \"titanic.csv\")"
   ]
  },
  {
   "cell_type": "code",
   "execution_count": 15,
   "metadata": {},
   "outputs": [
    {
     "data": {
      "text/plain": [
       "13                    Aks, Master. Frank Philip\n",
       "22               Allison, Master. Hudson Trevor\n",
       "58            Asplund, Master. Edvin Rojj Felix\n",
       "62                   Asplund, Mr. Johan Charles\n",
       "104                  Becker, Master. Richard F.\n",
       "183               Caldwell, Master. Alden Gates\n",
       "206         Carter, Master. William Thornton II\n",
       "244                          Cohen, Mr. Gurshon\n",
       "274              Coutts, Master. Neville Leslie\n",
       "275                Coutts, Master. William Loch\n",
       "304              Davies, Master. John Morgan jr\n",
       "315                  Dean, Master. Bertram Vere\n",
       "338                   Dodge, Master. Washington\n",
       "344                  Dorking, Mr. Edward Arthur\n",
       "353               Drew, Master. Marshall Brines\n",
       "457       Goldsmith, Master. Frank John William\n",
       "491     Hämäläinen, Master. Viljo Unto Johannes\n",
       "613             Johnson, Master. Harold Theodor\n",
       "761               Mallet, Master. André Clement\n",
       "764                     Māmā, Mr. Hannā Mikā'īl\n",
       "782                McCormack, Mr. Thomas Joseph\n",
       "804                   Mellors, Mr. William John\n",
       "829                         Moor, Master. Meier\n",
       "840                      Mubārik, Master. Halīm\n",
       "841                     Mubārik, Master. Jirjis\n",
       "867              Navratil, Master. Edmond Roger\n",
       "868             Navratil, Master. Michel Marcel\n",
       "883                 Nīqūla Yārid, Master. Ilyās\n",
       "906                   Olsen, Master. Artur Karl\n",
       "967          Peter / Joseph, Master. Michael J.\n",
       "1013            Richards, Master. Sibley George\n",
       "1014             Richards, Master. William Rowe\n",
       "1049                Ryerson, Master. John Borie\n",
       "1144            Spedden, Master. Robert Douglas\n",
       "1177                 Svensson, Mr. Johan Cervin\n",
       "1182                      Tannūs, Master. As'ad\n",
       "1193                Thayer, Mr. John Borland jr\n",
       "1215               Tu'mah, Master. Jirjis Yūsuf\n",
       "1265                Wells, Master. Ralph Lester\n",
       "1335                Andrews, Mr. Charles Edward\n",
       "1349                            Ball, Mr. Percy\n",
       "1441                       Burgess, Mr. Charles\n",
       "1485                          Collins, Mr. John\n",
       "1520                 Daniels, Mr. Sidney Edward\n",
       "1708                      Hyland, Mr. James Leo\n",
       "1934                    Perry, Mr. Edgar Lionel\n",
       "2166                Whiteley, Mr. Thomas Arthur\n",
       "Name: name, dtype: object"
      ]
     },
     "execution_count": null,
     "metadata": {},
     "output_type": "execute_result"
    }
   ],
   "source": [
    "df_titanic[(df_titanic['age'] < 20) & (df_titanic['gender']=='male') & (df_titanic['survived']==1)]['name']"
   ]
  },
  {
   "cell_type": "code",
   "execution_count": 17,
   "metadata": {},
   "outputs": [
    {
     "data": {
      "text/html": [
       "<div>\n",
       "<style scoped>\n",
       "    .dataframe tbody tr th:only-of-type {\n",
       "        vertical-align: middle;\n",
       "    }\n",
       "\n",
       "    .dataframe tbody tr th {\n",
       "        vertical-align: top;\n",
       "    }\n",
       "\n",
       "    .dataframe thead th {\n",
       "        text-align: right;\n",
       "    }\n",
       "</style>\n",
       "<table border=\"1\" class=\"dataframe\">\n",
       "  <thead>\n",
       "    <tr style=\"text-align: right;\">\n",
       "      <th></th>\n",
       "      <th>age</th>\n",
       "      <th>fare</th>\n",
       "    </tr>\n",
       "  </thead>\n",
       "  <tbody>\n",
       "    <tr>\n",
       "      <th>age</th>\n",
       "      <td>1.000000</td>\n",
       "      <td>0.184062</td>\n",
       "    </tr>\n",
       "    <tr>\n",
       "      <th>fare</th>\n",
       "      <td>0.184062</td>\n",
       "      <td>1.000000</td>\n",
       "    </tr>\n",
       "  </tbody>\n",
       "</table>\n",
       "</div>"
      ],
      "text/plain": [
       "           age      fare\n",
       "age   1.000000  0.184062\n",
       "fare  0.184062  1.000000"
      ]
     },
     "execution_count": null,
     "metadata": {},
     "output_type": "execute_result"
    }
   ],
   "source": [
    "df_titanic[['age','fare']].corr()"
   ]
  },
  {
   "cell_type": "code",
   "execution_count": 23,
   "metadata": {},
   "outputs": [
    {
     "data": {
      "text/plain": [
       "0.1841"
      ]
     },
     "execution_count": null,
     "metadata": {},
     "output_type": "execute_result"
    }
   ],
   "source": [
    "df_titanic['age'].corr(df_titanic['fare']).round(4)"
   ]
  }
 ],
 "metadata": {
  "language_info": {
   "name": "python"
  }
 },
 "nbformat": 4,
 "nbformat_minor": 2
}
