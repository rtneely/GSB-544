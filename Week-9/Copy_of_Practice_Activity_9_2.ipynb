{
  "cells": [
    {
      "cell_type": "raw",
      "metadata": {
        "vscode": {
          "languageId": "raw"
        }
      },
      "source": [
        "---\n",
        "title: PA 9.2\n",
        "author: Ryan Neely\n",
        "format:\n",
        "    html:\n",
        "        toc: true\n",
        "        code-fold: false\n",
        "        embed-resources: true\n",
        "        echo: true\n",
        "---"
      ]
    },
    {
      "cell_type": "markdown",
      "metadata": {
        "id": "P_N9XP2-04VH"
      },
      "source": [
        "\n",
        "Our dataset consists of clinical data from patients who entered the hospital complaining of chest pain (\"angina\") during exercise.  The information collected includes:\n",
        "\n",
        "* `age` : Age of the patient\n",
        "\n",
        "* `sex` : Sex of the patient\n",
        "\n",
        "* `cp` : Chest Pain type\n",
        "\n",
        "    + Value 0: asymptomatic\n",
        "    + Value 1: typical angina\n",
        "    + Value 2: atypical angina\n",
        "    + Value 3: non-anginal pain\n",
        "   \n",
        "    \n",
        "* `trtbps` : resting blood pressure (in mm Hg)\n",
        "\n",
        "* `chol` : cholesterol in mg/dl fetched via BMI sensor\n",
        "\n",
        "* `restecg` : resting electrocardiographic results\n",
        "\n",
        "    + Value 0: normal\n",
        "    + Value 1: having ST-T wave abnormality (T wave inversions and/or ST elevation or depression of > 0.05 mV)\n",
        "    + Value 2: showing probable or definite left ventricular hypertrophy by Estes' criteria\n",
        "\n",
        "* `thalach` : maximum heart rate achieved during exercise\n",
        "\n",
        "* `output` : the doctor's diagnosis of whether the patient is at risk for a heart attack\n",
        "    + 0 = not at risk of heart attack\n",
        "    + 1 = at risk of heart attack"
      ]
    },
    {
      "cell_type": "code",
      "execution_count": 1,
      "metadata": {
        "id": "tZmjmGGQ1CaN"
      },
      "outputs": [],
      "source": [
        "## library imports here\n",
        "\n",
        "import pandas as pd\n",
        "import numpy as np\n",
        "from sklearn.model_selection import train_test_split, cross_val_score\n",
        "from sklearn.metrics import roc_auc_score, roc_curve, confusion_matrix, classification_report\n",
        "from sklearn.neighbors import KNeighborsClassifier\n",
        "from sklearn.linear_model import LogisticRegression\n",
        "from sklearn.tree import DecisionTreeClassifier\n",
        "from sklearn.pipeline import Pipeline\n",
        "from sklearn.preprocessing import StandardScaler, OneHotEncoder\n",
        "from sklearn.model_selection import GridSearchCV\n",
        "from sklearn.compose import ColumnTransformer, make_column_selector\n",
        "from sklearn.metrics import accuracy_score, precision_score, recall_score, f1_score, roc_auc_score, classification_report, roc_curve, auc\n"
      ]
    },
    {
      "cell_type": "code",
      "execution_count": 47,
      "metadata": {
        "id": "ghXbwhv600-S"
      },
      "outputs": [
        {
          "data": {
            "text/html": [
              "<div>\n",
              "<style scoped>\n",
              "    .dataframe tbody tr th:only-of-type {\n",
              "        vertical-align: middle;\n",
              "    }\n",
              "\n",
              "    .dataframe tbody tr th {\n",
              "        vertical-align: top;\n",
              "    }\n",
              "\n",
              "    .dataframe thead th {\n",
              "        text-align: right;\n",
              "    }\n",
              "</style>\n",
              "<table border=\"1\" class=\"dataframe\">\n",
              "  <thead>\n",
              "    <tr style=\"text-align: right;\">\n",
              "      <th></th>\n",
              "      <th>age</th>\n",
              "      <th>sex</th>\n",
              "      <th>cp</th>\n",
              "      <th>trtbps</th>\n",
              "      <th>chol</th>\n",
              "      <th>restecg</th>\n",
              "      <th>thalach</th>\n",
              "      <th>output</th>\n",
              "    </tr>\n",
              "  </thead>\n",
              "  <tbody>\n",
              "    <tr>\n",
              "      <th>0</th>\n",
              "      <td>63</td>\n",
              "      <td>1</td>\n",
              "      <td>3</td>\n",
              "      <td>145</td>\n",
              "      <td>233</td>\n",
              "      <td>0</td>\n",
              "      <td>150</td>\n",
              "      <td>1</td>\n",
              "    </tr>\n",
              "    <tr>\n",
              "      <th>1</th>\n",
              "      <td>37</td>\n",
              "      <td>1</td>\n",
              "      <td>2</td>\n",
              "      <td>130</td>\n",
              "      <td>250</td>\n",
              "      <td>1</td>\n",
              "      <td>187</td>\n",
              "      <td>1</td>\n",
              "    </tr>\n",
              "    <tr>\n",
              "      <th>2</th>\n",
              "      <td>56</td>\n",
              "      <td>1</td>\n",
              "      <td>1</td>\n",
              "      <td>120</td>\n",
              "      <td>236</td>\n",
              "      <td>1</td>\n",
              "      <td>178</td>\n",
              "      <td>1</td>\n",
              "    </tr>\n",
              "    <tr>\n",
              "      <th>3</th>\n",
              "      <td>57</td>\n",
              "      <td>0</td>\n",
              "      <td>0</td>\n",
              "      <td>120</td>\n",
              "      <td>354</td>\n",
              "      <td>1</td>\n",
              "      <td>163</td>\n",
              "      <td>1</td>\n",
              "    </tr>\n",
              "    <tr>\n",
              "      <th>4</th>\n",
              "      <td>57</td>\n",
              "      <td>1</td>\n",
              "      <td>0</td>\n",
              "      <td>140</td>\n",
              "      <td>192</td>\n",
              "      <td>1</td>\n",
              "      <td>148</td>\n",
              "      <td>1</td>\n",
              "    </tr>\n",
              "  </tbody>\n",
              "</table>\n",
              "</div>"
            ],
            "text/plain": [
              "   age  sex  cp  trtbps  chol  restecg  thalach  output\n",
              "0   63    1   3     145   233        0      150       1\n",
              "1   37    1   2     130   250        1      187       1\n",
              "2   56    1   1     120   236        1      178       1\n",
              "3   57    0   0     120   354        1      163       1\n",
              "4   57    1   0     140   192        1      148       1"
            ]
          },
          "execution_count": null,
          "metadata": {},
          "output_type": "execute_result"
        }
      ],
      "source": [
        "ha_df = pd.read_csv(\"https://www.dropbox.com/s/aohbr6yb9ifmc8w/heart_attack.csv?dl=1\")\n",
        "ha_df.head()"
      ]
    },
    {
      "cell_type": "markdown",
      "metadata": {
        "id": "OCX180v41bhe"
      },
      "source": [
        "## Q1: Natural Multiclass Models\n",
        "\n",
        "Fit a multiclass KNN, Decision Tree, and LDA for the heart disease data; this time predicting the type of chest pain (categories 0 - 3) that a patient experiences.  For the decision tree, plot the fitted tree, and interpret the first couple splits.\n"
      ]
    },
    {
      "cell_type": "code",
      "execution_count": 3,
      "metadata": {
        "id": "WJsMBCZh1glq"
      },
      "outputs": [],
      "source": [
        "X = ha_df.drop(columns=['cp'])\n",
        "y = ha_df['cp']\n",
        "\n",
        "X_train, X_test, y_train, y_test = train_test_split(X, y, test_size = .2 ,random_state=10, stratify=y)"
      ]
    },
    {
      "cell_type": "code",
      "execution_count": 10,
      "metadata": {},
      "outputs": [],
      "source": [
        "ct = ColumnTransformer(\n",
        "    [\n",
        "        ('standardize', StandardScaler(), make_column_selector(dtype_include=np.number)),\n",
        "        (\"dummify\", OneHotEncoder(sparse_output = False, handle_unknown='ignore'), make_column_selector(dtype_include=object))\n",
        "    ],\n",
        "    remainder = 'passthrough'\n",
        ")"
      ]
    },
    {
      "cell_type": "code",
      "execution_count": 5,
      "metadata": {},
      "outputs": [
        {
          "name": "stdout",
          "output_type": "stream",
          "text": [
            "Best KNN parameters: {'knn__n_neighbors': 36}\n",
            "              precision    recall  f1-score   support\n",
            "\n",
            "           0       0.65      0.77      0.70        26\n",
            "           1       0.50      0.11      0.18         9\n",
            "           2       0.36      0.50      0.42        16\n",
            "           3       0.00      0.00      0.00         4\n",
            "\n",
            "    accuracy                           0.53        55\n",
            "   macro avg       0.38      0.35      0.33        55\n",
            "weighted avg       0.49      0.53      0.48        55\n",
            "\n",
            "[[20  1  5  0]\n",
            " [ 1  1  7  0]\n",
            " [ 8  0  8  0]\n",
            " [ 2  0  2  0]]\n",
            "Best KNN parameters: {'knn__n_neighbors': 36}\n",
            "              precision    recall  f1-score   support\n",
            "\n",
            "           0       0.65      0.77      0.70        26\n",
            "           1       0.50      0.11      0.18         9\n",
            "           2       0.36      0.50      0.42        16\n",
            "           3       0.00      0.00      0.00         4\n",
            "\n",
            "    accuracy                           0.53        55\n",
            "   macro avg       0.38      0.35      0.33        55\n",
            "weighted avg       0.49      0.53      0.48        55\n",
            "\n",
            "[[20  1  5  0]\n",
            " [ 1  1  7  0]\n",
            " [ 8  0  8  0]\n",
            " [ 2  0  2  0]]\n"
          ]
        },
        {
          "name": "stderr",
          "output_type": "stream",
          "text": [
            "C:\\Users\\rtnee\\anaconda3\\Lib\\site-packages\\sklearn\\metrics\\_classification.py:1344: UndefinedMetricWarning: Precision and F-score are ill-defined and being set to 0.0 in labels with no predicted samples. Use `zero_division` parameter to control this behavior.\n",
            "  _warn_prf(average, modifier, msg_start, len(result))\n",
            "C:\\Users\\rtnee\\anaconda3\\Lib\\site-packages\\sklearn\\metrics\\_classification.py:1344: UndefinedMetricWarning: Precision and F-score are ill-defined and being set to 0.0 in labels with no predicted samples. Use `zero_division` parameter to control this behavior.\n",
            "  _warn_prf(average, modifier, msg_start, len(result))\n",
            "C:\\Users\\rtnee\\anaconda3\\Lib\\site-packages\\sklearn\\metrics\\_classification.py:1344: UndefinedMetricWarning: Precision and F-score are ill-defined and being set to 0.0 in labels with no predicted samples. Use `zero_division` parameter to control this behavior.\n",
            "  _warn_prf(average, modifier, msg_start, len(result))\n"
          ]
        }
      ],
      "source": [
        "KNN_pipeline = Pipeline(steps=[\n",
        "    ('preprocessor', ct),\n",
        "    ('knn', KNeighborsClassifier())\n",
        "])\n",
        "\n",
        "knn_params = {'knn__n_neighbors': range(1, 51)}\n",
        "knn_gscv = GridSearchCV(KNN_pipeline, knn_params, cv=5, scoring='accuracy')\n",
        "knn_gscv.fit(X_train, y_train)\n",
        "\n",
        "y_pred = knn_gscv.best_estimator_.predict(X_test)\n",
        "\n",
        "print(f\"Best KNN parameters: {knn_gscv.best_params_}\")\n",
        "print(classification_report(y_test, y_pred))\n",
        "\n",
        "accuracy_score(y_test,y_pred)\n",
        "print(confusion_matrix(y_test, y_pred))"
      ]
    },
    {
      "cell_type": "code",
      "execution_count": 23,
      "metadata": {},
      "outputs": [
        {
          "name": "stdout",
          "output_type": "stream",
          "text": [
            "Best Decision Tree parameters: {'tree__max_depth': 1, 'tree__min_samples_leaf': 1, 'tree__min_samples_split': 2}\n",
            "Best Accuracy Score: 0.5919661733615221\n",
            "Best Decision Tree parameters: {'tree__max_depth': 1, 'tree__min_samples_leaf': 1, 'tree__min_samples_split': 2}\n",
            "Best Accuracy Score: 0.5919661733615221\n"
          ]
        }
      ],
      "source": [
        "tree_pipeline = Pipeline([\n",
        "    (\"preprocessing\", ct),\n",
        "    ('tree', DecisionTreeClassifier(random_state=10))\n",
        "])\n",
        "\n",
        "tree_params = {\n",
        "    'tree__max_depth': range(1, 5), \n",
        "    'tree__min_samples_split': range(2, 5),\n",
        "    'tree__min_samples_leaf': [1, 2, 4],\n",
        "                }\n",
        "tree_gscv = GridSearchCV(tree_pipeline, tree_params, cv=5, scoring='accuracy')\n",
        "best_tree = tree_gscv.fit(X_train, y_train)\n",
        "\n",
        "print(f\"Best Decision Tree parameters: {tree_gscv.best_params_}\")\n",
        "print(f\"Best Accuracy Score: {tree_gscv.best_score_}\")"
      ]
    },
    {
      "cell_type": "code",
      "execution_count": 19,
      "metadata": {},
      "outputs": [
        {
          "data": {
            "image/png": "[encoded data removed]",
            "text/plain": [
              "<Figure size 640x480 with 1 Axes>"
            ]
          },
          "metadata": {},
          "output_type": "display_data"
        }
      ],
      "source": [
        "from sklearn.tree import plot_tree\n",
        "import matplotlib.pyplot as plt\n",
        "\n",
        "tree_pipeline.fit(X_train, y_train)\n",
        "\n",
        "best_tree = tree_gscv.best_estimator_\n",
        "\n",
        "plot_tree(best_tree.named_steps['tree'], \n",
        "          feature_names=ct.get_feature_names_out(),\n",
        "          class_names=['0', '1', '2', '3'],\n",
        "          filled=True,\n",
        "          rounded=True,\n",
        "          fontsize=12)\n",
        "plt.title(\"Best Decision Tree\")\n",
        "plt.show()"
      ]
    },
    {
      "cell_type": "code",
      "execution_count": 17,
      "metadata": {},
      "outputs": [
        {
          "name": "stdout",
          "output_type": "stream",
          "text": [
            "Best LDA parameters: {'lda__n_components': 1, 'lda__tol': 0.0001}\n",
            "\n",
            "Best Accuracy: 0.5644820295983086\n",
            "Best LDA parameters: {'lda__n_components': 1, 'lda__tol': 0.0001}\n",
            "\n",
            "Best Accuracy: 0.5644820295983086\n"
          ]
        }
      ],
      "source": [
        "from sklearn.discriminant_analysis import LinearDiscriminantAnalysis\n",
        "\n",
        "lda_pipeline = Pipeline([\n",
        "    (\"preprocessing\", ct),  \n",
        "    ('lda', LinearDiscriminantAnalysis())  \n",
        "])\n",
        "\n",
        "lda_params = {\n",
        "    'lda__n_components': [1, 2, 3],\n",
        "    'lda__tol': [1e-4, 1e-3, 1e-2]\n",
        "}\n",
        "\n",
        "lda_gscv = GridSearchCV(lda_pipeline, lda_params, cv=5, scoring='accuracy')\n",
        "best_lda_model = lda_gscv.fit(X_train, y_train)\n",
        "\n",
        "print(f\"Best LDA parameters: {lda_gscv.best_params_}\")\n",
        "print(f\"\\nBest Accuracy: {lda_gscv.best_score_}\")"
      ]
    },
    {
      "cell_type": "markdown",
      "metadata": {
        "id": "gYqpOtbO1EAJ"
      },
      "source": [
        "## Q2:  OvR\n",
        "\n",
        "Create a new column in the `ha` dataset called `cp_is_3`, which is equal to `1` if the `cp` variable is equal to `3` and `0` otherwise.\n",
        "\n",
        "Then, fit a Logistic Regression to predict this new target, and report the **F1 Score**.\n",
        "\n",
        "Repeat for the other three `cp` categories.  Which category was the OvR approach best at distinguishing?"
      ]
    },
    {
      "cell_type": "code",
      "execution_count": 48,
      "metadata": {
        "id": "90PfjsjW1T2Y"
      },
      "outputs": [
        {
          "name": "stdout",
          "output_type": "stream",
          "text": [
            "Best Logistic parameters: {'logit__C': 1}\n",
            "Best F1 Score (cp = 3): 0.1\n",
            "Best Logistic parameters: {'logit__C': 1}\n",
            "Best F1 Score (cp = 3): 0.1\n"
          ]
        }
      ],
      "source": [
        "ha_df[\"cp3\"] = (ha_df[\"cp\"] == 3).astype(int)\n",
        "\n",
        "X = ha_df.drop(columns= [\"cp\", \"cp3\"])\n",
        "y = ha_df[\"cp3\"]\n",
        "X_train, X_test, y_train, y_test = train_test_split(X, y, random_state=10, stratify=y)\n",
        "\n",
        "logistic_pipeline = Pipeline([\n",
        "    ('preprocessor', ct),\n",
        "    ('logit', LogisticRegression())\n",
        "])\n",
        "\n",
        "log_params = {'logit__C': [0.01, 0.1, 1, 10, 100]}\n",
        "log_gscv = GridSearchCV(logistic_pipeline, log_params, cv=5, scoring='f1')\n",
        "best_log_model = log_gscv.fit(X_train, y_train)\n",
        "\n",
        "print(f\"Best Logistic parameters: {log_gscv.best_params_}\")\n",
        "print(f\"Best F1 Score (cp = 3): {log_gscv.best_score_}\")"
      ]
    },
    {
      "cell_type": "code",
      "execution_count": 49,
      "metadata": {},
      "outputs": [
        {
          "name": "stdout",
          "output_type": "stream",
          "text": [
            "Best Logistic parameters: {'logit__C': 1}\n",
            "Best F1 Score (cp = 2): 0.1743557422969188\n",
            "Best Logistic parameters: {'logit__C': 1}\n",
            "Best F1 Score (cp = 2): 0.1743557422969188\n"
          ]
        }
      ],
      "source": [
        "ha_df[\"cp2\"] = (ha_df[\"cp\"] == 2).astype(int)\n",
        "\n",
        "X = ha_df.drop(columns= [\"cp\", \"cp3\", \"cp2\"])\n",
        "y = ha_df[\"cp2\"]\n",
        "X_train, X_test, y_train, y_test = train_test_split(X, y, random_state=42, stratify=y)\n",
        "\n",
        "log_gscv = GridSearchCV(logistic_pipeline, log_params, cv=5, scoring='f1')\n",
        "best_log_model = log_gscv.fit(X_train, y_train)\n",
        "\n",
        "print(f\"Best Logistic parameters: {log_gscv.best_params_}\")\n",
        "print(f\"Best F1 Score (cp = 2): {log_gscv.best_score_}\")"
      ]
    },
    {
      "cell_type": "code",
      "execution_count": 50,
      "metadata": {},
      "outputs": [
        {
          "name": "stdout",
          "output_type": "stream",
          "text": [
            "Best Logistic parameters: {'logit__C': 100}\n",
            "Best F1 Score (cp = 1): 0.1\n",
            "Best Logistic parameters: {'logit__C': 100}\n",
            "Best F1 Score (cp = 1): 0.1\n"
          ]
        }
      ],
      "source": [
        "ha_df[\"cp1\"] = (ha_df[\"cp\"] == 1).astype(int)\n",
        "\n",
        "X = ha_df.drop(columns= [\"cp\", \"cp3\", \"cp2\", \"cp1\"])\n",
        "y = ha_df[\"cp1\"]\n",
        "X_train, X_test, y_train, y_test = train_test_split(X, y, random_state=10, stratify=y)\n",
        "\n",
        "log_gscv = GridSearchCV(logistic_pipeline, log_params, cv=5, scoring='f1')\n",
        "best_log_model = log_gscv.fit(X_train, y_train)\n",
        "\n",
        "print(f\"Best Logistic parameters: {log_gscv.best_params_}\")\n",
        "print(f\"Best F1 Score (cp = 1): {log_gscv.best_score_}\")"
      ]
    },
    {
      "cell_type": "code",
      "execution_count": 52,
      "metadata": {},
      "outputs": [
        {
          "name": "stdout",
          "output_type": "stream",
          "text": [
            "Best Logistic parameters: {'logit__C': 0.1}\n",
            "Best F1 Score (cp = 1): 0.7392995863727572\n",
            "Best Logistic parameters: {'logit__C': 0.1}\n",
            "Best F1 Score (cp = 1): 0.7392995863727572\n"
          ]
        }
      ],
      "source": [
        "ha_df[\"cp0\"] = (ha_df[\"cp\"] == 0).astype(int)\n",
        "\n",
        "X = ha_df.drop(columns= [\"cp\", \"cp0\", \"cp3\", \"cp2\", \"cp1\"])\n",
        "y = ha_df[\"cp0\"]\n",
        "X_train, X_test, y_train, y_test = train_test_split(X, y, random_state=10, stratify=y)\n",
        "\n",
        "log_gscv = GridSearchCV(logistic_pipeline, log_params, cv=5, scoring='f1')\n",
        "best_log_model = log_gscv.fit(X_train, y_train)\n",
        "\n",
        "print(f\"Best Logistic parameters: {log_gscv.best_params_}\")\n",
        "print(f\"Best F1 Score (cp = 1): {log_gscv.best_score_}\")"
      ]
    },
    {
      "cell_type": "markdown",
      "metadata": {},
      "source": [
        "Based on the above F1 scores, the best OvR model is the one for chest pain type 1. This gave a score of 0.74 while the other models have scores around 0.1."
      ]
    },
    {
      "cell_type": "markdown",
      "metadata": {
        "id": "lXO3jbTU1ULR"
      },
      "source": [
        "## Q3: OvO\n",
        "\n",
        "Reduce your dataset to only the `0` and `1` types of chest pain.\n",
        "\n",
        "Then, fit a Logistic Regression to predict between the two groups, and report the **ROC-AUC**.  \n",
        "\n",
        "Repeat comparing category `0` to `2` and `3`.  Which pair was the OvO approach best at distinguishing?"
      ]
    },
    {
      "cell_type": "code",
      "execution_count": 53,
      "metadata": {
        "id": "THrjnRoV1siy"
      },
      "outputs": [],
      "source": [
        "ha_df_01 = ha_df[(ha_df[\"cp\"] == 0) | (ha_df[\"cp\"] == 1)]\n",
        "X = ha_df_01.drop(columns=['cp','cp0','cp1','cp2','cp3'])\n",
        "y = ha_df_01['cp']\n",
        "\n",
        "X_train, X_test, y_train, y_test = train_test_split(X, y, random_state=10, stratify=y)"
      ]
    },
    {
      "cell_type": "code",
      "execution_count": 43,
      "metadata": {},
      "outputs": [
        {
          "name": "stdout",
          "output_type": "stream",
          "text": [
            "Best Logistic parameters: {'logit__C': 0.01}\n",
            "\n",
            "Best ROC AUC (0-1): 0.7901378446115288\n",
            "Best Logistic parameters: {'logit__C': 0.01}\n",
            "\n",
            "Best ROC AUC (0-1): 0.7901378446115288\n"
          ]
        }
      ],
      "source": [
        "ovo_pipeline = Pipeline([\n",
        "    ('preprocessing', ct),\n",
        "    ('logit', LogisticRegression(max_iter=1000))\n",
        "])\n",
        "\n",
        "logit_params = {'logit__C': [0.01, 0.1, 1, 10, 100]}\n",
        "logit_gscv = GridSearchCV(ovo_pipeline, logit_params, cv=5, scoring='roc_auc')\n",
        "best_logit = logit_gscv.fit(X_train, y_train)\n",
        "\n",
        "print(f\"Best Logistic parameters: {logit_gscv.best_params_}\")\n",
        "print(f\"Best ROC AUC (0-1): {logit_gscv.best_score_}\")"
      ]
    },
    {
      "cell_type": "code",
      "execution_count": 54,
      "metadata": {},
      "outputs": [
        {
          "name": "stdout",
          "output_type": "stream",
          "text": [
            "Best Logistic parameters: {'logit__C': 10}\n",
            "\n",
            "Best ROC AUC (0-2): 0.7739473684210526\n",
            "Best Logistic parameters: {'logit__C': 10}\n",
            "\n",
            "Best ROC AUC (0-2): 0.7739473684210526\n"
          ]
        }
      ],
      "source": [
        "ha_df_02 = ha_df[(ha_df[\"cp\"] == 0) | (ha_df[\"cp\"] == 2)]\n",
        "X = ha_df_02.drop(columns=['cp','cp0','cp1','cp2','cp3'])\n",
        "y = ha_df_02['cp']\n",
        "X_train, X_test, y_train, y_test = train_test_split(X, y, random_state=10, stratify=y)\n",
        "\n",
        "ovo_pipeline = Pipeline([\n",
        "    ('preprocessing', ct),\n",
        "    ('logit', LogisticRegression(max_iter=1000))\n",
        "])\n",
        "\n",
        "logit_params = {'logit__C': [0.01, 0.1, 1, 10, 100]}\n",
        "logit_gscv = GridSearchCV(ovo_pipeline, logit_params, cv=5, scoring='roc_auc')\n",
        "best_logit = logit_gscv.fit(X_train, y_train)\n",
        "\n",
        "print(f\"Best Logistic parameters: {logit_gscv.best_params_}\")\n",
        "print(f\"Best ROC AUC (0-2): {logit_gscv.best_score_}\")"
      ]
    },
    {
      "cell_type": "code",
      "execution_count": 56,
      "metadata": {},
      "outputs": [
        {
          "name": "stdout",
          "output_type": "stream",
          "text": [
            "Best Logistic parameters: {'logit__C': 0.1}\n",
            "\n",
            "Best ROC AUC (0-3): 0.7280701754385965\n",
            "Best Logistic parameters: {'logit__C': 0.1}\n",
            "\n",
            "Best ROC AUC (0-3): 0.7280701754385965\n"
          ]
        }
      ],
      "source": [
        "ha_df_03 = ha_df[(ha_df[\"cp\"] == 0) | (ha_df[\"cp\"] == 3)]\n",
        "X = ha_df_03.drop(columns=['cp','cp0','cp1','cp2','cp3'])\n",
        "y = ha_df_03['cp']\n",
        "X_train, X_test, y_train, y_test = train_test_split(X, y, random_state=10, stratify=y)\n",
        "\n",
        "ovo_pipeline = Pipeline([\n",
        "    ('preprocessing', ct),\n",
        "    ('logit', LogisticRegression(max_iter=1000))\n",
        "])\n",
        "\n",
        "logit_params = {'logit__C': [0.01, 0.1, 1, 10, 100]}\n",
        "logit_gscv = GridSearchCV(ovo_pipeline, logit_params, cv=5, scoring='roc_auc')\n",
        "best_logit = logit_gscv.fit(X_train, y_train)\n",
        "\n",
        "print(f\"Best Logistic parameters: {logit_gscv.best_params_}\")\n",
        "print(f\"Best ROC AUC (0-3): {logit_gscv.best_score_}\")"
      ]
    },
    {
      "cell_type": "markdown",
      "metadata": {},
      "source": [
        "Based on the above AUC models the best OvO model is the one that includes only values of 0 and 1 chest pain types. The AUC is 0.79 for this model which is slightly better than the other two models that looks to compare 0 to 2 and 0 to 3."
      ]
    }
  ],
  "metadata": {
    "colab": {
      "provenance": []
    },
    "kernelspec": {
      "display_name": "Python 3",
      "name": "python3"
    },
    "language_info": {
      "name": "python"
    }
  },
  "nbformat": 4,
  "nbformat_minor": 0
}
