{
 "cells": [
  {
   "cell_type": "code",
   "execution_count": null,
   "metadata": {},
   "outputs": [],
   "source": [
    "---\n",
    "title: Lab 7 (Heart Attack)\n",
    "author: Ryan Neely\n",
    "format:\n",
    "    html:\n",
    "        toc: true\n",
    "        code-fold: false\n",
    "        embed-resources: true\n",
    "        echo: true\n",
    "---"
   ]
  },
  {
   "cell_type": "markdown",
   "metadata": {},
   "source": [
    "\n",
    "# Lab 7: Heart Attack\n",
    "Instructions\n",
    "\n",
    "You will submit an HTML document to Canvas as your final version.\n",
    "\n",
    "Your document should show your code chunks/cells as well as any output. Make sure that only relevant output is printed. Do not, for example, print the entire dataset in your final rendered file.\n",
    "\n",
    "Your document should also be clearly organized, so that it is easy for a reader to find your answers to each question.\n",
    "The Data\n",
    "\n",
    "In this lab, we will use medical data to predict the likelihood of a person experiencing an exercise-induced heart attack.\n",
    "\n",
    "Our dataset consists of clinical data from patients who entered the hospital complaining of chest pain (“angina”) during exercise. The information collected includes:\n",
    "\n",
    "age : Age of the patient\n",
    "\n",
    "sex : Sex of the patient\n",
    "\n",
    "cp : Chest Pain type\n",
    "Value 0: asymptomatic\n",
    "Value 1: typical angina\n",
    "Value 2: atypical angina\n",
    "Value 3: non-anginal pain\n",
    "\n",
    "trtbps : resting blood pressure (in mm Hg)\n",
    "\n",
    "chol : cholesterol in mg/dl fetched via BMI sensor\n",
    "\n",
    "restecg : resting electrocardiographic results\n",
    "Value 0: normal\n",
    "Value 1: having ST-T wave abnormality (T wave inversions and/or ST elevation or depression of > 0.05 mV)\n",
    "Value 2: showing probable or definite left ventricular hypertrophy by Estes’ criteria\n",
    "\n",
    "thalach : maximum heart rate achieved during exercise\n",
    "\n",
    "output : the doctor’s diagnosis of whether the patient is at risk for a heart attack\n",
    "0 = not at risk of heart attack\n",
    "1 = at risk of heart attack\n",
    "\n",
    "Although it is not a formal question on this assignment, you should begin by reading in the dataset and briefly exploring and summarizing the data, and by adjusting any variables that need cleaning."
   ]
  },
  {
   "cell_type": "code",
   "execution_count": 15,
   "metadata": {},
   "outputs": [],
   "source": [
    "import pandas as pd\n",
    "import numpy as np\n",
    "from sklearn.model_selection import train_test_split, cross_val_score\n",
    "from sklearn.metrics import roc_auc_score, roc_curve, confusion_matrix, classification_report\n",
    "from sklearn.neighbors import KNeighborsClassifier\n",
    "from sklearn.linear_model import LogisticRegression\n",
    "from sklearn.tree import DecisionTreeClassifier\n",
    "from sklearn.pipeline import Pipeline\n",
    "from sklearn.preprocessing import StandardScaler, OneHotEncoder\n",
    "from sklearn.model_selection import GridSearchCV\n",
    "from sklearn.compose import ColumnTransformer, make_column_selector\n",
    "from sklearn.model_selection import cross_val_predict\n",
    "from sklearn.metrics import confusion_matrix, recall_score, precision_score\n",
    "from plotnine import ggplot, aes, geom_line, geom_abline, labs, theme_classic, ggtitle, scale_color_manual"
   ]
  },
  {
   "cell_type": "code",
   "execution_count": 3,
   "metadata": {},
   "outputs": [
    {
     "data": {
      "text/html": [
       "<div>\n",
       "<style scoped>\n",
       "    .dataframe tbody tr th:only-of-type {\n",
       "        vertical-align: middle;\n",
       "    }\n",
       "\n",
       "    .dataframe tbody tr th {\n",
       "        vertical-align: top;\n",
       "    }\n",
       "\n",
       "    .dataframe thead th {\n",
       "        text-align: right;\n",
       "    }\n",
       "</style>\n",
       "<table border=\"1\" class=\"dataframe\">\n",
       "  <thead>\n",
       "    <tr style=\"text-align: right;\">\n",
       "      <th></th>\n",
       "      <th>age</th>\n",
       "      <th>sex</th>\n",
       "      <th>cp</th>\n",
       "      <th>trtbps</th>\n",
       "      <th>chol</th>\n",
       "      <th>restecg</th>\n",
       "      <th>thalach</th>\n",
       "      <th>output</th>\n",
       "    </tr>\n",
       "  </thead>\n",
       "  <tbody>\n",
       "    <tr>\n",
       "      <th>0</th>\n",
       "      <td>63</td>\n",
       "      <td>1</td>\n",
       "      <td>3</td>\n",
       "      <td>145</td>\n",
       "      <td>233</td>\n",
       "      <td>0</td>\n",
       "      <td>150</td>\n",
       "      <td>1</td>\n",
       "    </tr>\n",
       "    <tr>\n",
       "      <th>1</th>\n",
       "      <td>37</td>\n",
       "      <td>1</td>\n",
       "      <td>2</td>\n",
       "      <td>130</td>\n",
       "      <td>250</td>\n",
       "      <td>1</td>\n",
       "      <td>187</td>\n",
       "      <td>1</td>\n",
       "    </tr>\n",
       "    <tr>\n",
       "      <th>2</th>\n",
       "      <td>56</td>\n",
       "      <td>1</td>\n",
       "      <td>1</td>\n",
       "      <td>120</td>\n",
       "      <td>236</td>\n",
       "      <td>1</td>\n",
       "      <td>178</td>\n",
       "      <td>1</td>\n",
       "    </tr>\n",
       "    <tr>\n",
       "      <th>3</th>\n",
       "      <td>57</td>\n",
       "      <td>0</td>\n",
       "      <td>0</td>\n",
       "      <td>120</td>\n",
       "      <td>354</td>\n",
       "      <td>1</td>\n",
       "      <td>163</td>\n",
       "      <td>1</td>\n",
       "    </tr>\n",
       "    <tr>\n",
       "      <th>4</th>\n",
       "      <td>57</td>\n",
       "      <td>1</td>\n",
       "      <td>0</td>\n",
       "      <td>140</td>\n",
       "      <td>192</td>\n",
       "      <td>1</td>\n",
       "      <td>148</td>\n",
       "      <td>1</td>\n",
       "    </tr>\n",
       "  </tbody>\n",
       "</table>\n",
       "</div>"
      ],
      "text/plain": [
       "   age  sex  cp  trtbps  chol  restecg  thalach  output\n",
       "0   63    1   3     145   233        0      150       1\n",
       "1   37    1   2     130   250        1      187       1\n",
       "2   56    1   1     120   236        1      178       1\n",
       "3   57    0   0     120   354        1      163       1\n",
       "4   57    1   0     140   192        1      148       1"
      ]
     },
     "execution_count": 3,
     "metadata": {},
     "output_type": "execute_result"
    }
   ],
   "source": [
    "ha_df = pd.read_csv(\"https://www.dropbox.com/s/aohbr6yb9ifmc8w/heart_attack.csv?dl=1\")\n",
    "ha_df.head()"
   ]
  },
  {
   "cell_type": "code",
   "execution_count": 7,
   "metadata": {},
   "outputs": [],
   "source": [
    "X = ha_df.drop(columns=['output'])\n",
    "y = ha_df['output']\n",
    "X_train, X_test, y_train, y_test = train_test_split(X, y, test_size = .2 ,random_state=2)\n",
    "\n",
    "ct = ColumnTransformer(\n",
    "  [\n",
    "    (\"dummify\", OneHotEncoder(sparse_output = False, handle_unknown='ignore'), make_column_selector(dtype_include=object)),\n",
    "    (\"standardize\", StandardScaler(), make_column_selector(dtype_include=np.number))\n",
    "  ],\n",
    "  remainder = \"passthrough\"\n",
    ")"
   ]
  },
  {
   "cell_type": "markdown",
   "metadata": {},
   "source": [
    "## Part One: Fitting Models\n",
    "\n",
    "This section asks you to create a final best model for each of the model types studied this week. For each, you should:\n",
    "\n",
    "Find the best model based on ROC AUC for predicting the target variable.\n",
    "\n",
    "Report the (cross-validated!) ROC AUC metric.\n",
    "\n",
    "Fit the final model.\n",
    "\n",
    "Output a confusion matrix; that is, the counts of how many observations fell into each predicted class for each true class.\n",
    "\n",
    "(Where applicable) Interpret the coefficients and/or estimates produced by the model fit.\n",
    "\n",
    "You should certainly try multiple model pipelines to find the best model. You do not need to include the output for every attempted model, but you should describe all of the models explored. You should include any hyperparameter tuning steps in your writeup as well.\n",
    "\n",
    "Q1: KNN\n",
    "\n",
    "Q2: Logistic Regression\n",
    "\n",
    "Q3: Decision Tree\n",
    "\n",
    "Q4: Interpretation Which predictors were most important to predicting heart attack risk?\n",
    "\n",
    "Q5: ROC Curve Plot the ROC Curve for your three models above"
   ]
  },
  {
   "cell_type": "code",
   "execution_count": 6,
   "metadata": {},
   "outputs": [
    {
     "name": "stdout",
     "output_type": "stream",
     "text": [
      "Best KNN parameters: {'knn__n_neighbors': 17}\n",
      "AUC: 0.84721\n",
      "[[14  7]\n",
      " [ 7 27]]\n"
     ]
    }
   ],
   "source": [
    "KNN_pipeline = Pipeline(steps=[\n",
    "    ('preprocessor', ct),\n",
    "    ('knn', KNeighborsClassifier())\n",
    "])\n",
    "\n",
    "knn_params = {'knn__n_neighbors': range(1, 21)}\n",
    "knn_gscv = GridSearchCV(KNN_pipeline, knn_params, cv=5, scoring='roc_auc')\n",
    "knn_gscv.fit(X_train, y_train)\n",
    "\n",
    "print(f\"Best KNN parameters: {knn_gscv.best_params_}\")\n",
    "print(f\"AUC: {knn_gscv.best_score_.round(5)}\")\n",
    "\n",
    "y_pred_knn = knn_gscv.best_estimator_.predict(X_test)\n",
    "print(confusion_matrix(y_test, y_pred_knn))"
   ]
  },
  {
   "cell_type": "code",
   "execution_count": 5,
   "metadata": {},
   "outputs": [
    {
     "name": "stdout",
     "output_type": "stream",
     "text": [
      "Best Logitistic parameters: {'logit__C': 0.01}\n",
      "AUC: 0.85397\n",
      "[[16  5]\n",
      " [ 6 28]]\n"
     ]
    }
   ],
   "source": [
    "logit_pipeline = Pipeline([\n",
    "    ('preprocessor', ct),\n",
    "    ('logit', LogisticRegression())\n",
    "])\n",
    "\n",
    "logit_params = {'logit__C': [0.01, 0.1, 1, 10, 100]}\n",
    "logit_gscv = GridSearchCV(logit_pipeline, logit_params, cv=5, scoring='roc_auc')\n",
    "logit_gscv.fit(X_train, y_train)\n",
    "\n",
    "print(f\"Best Logitistic parameters: {logit_gscv.best_params_}\")\n",
    "print(f\"AUC: {logit_gscv.best_score_.round(5)}\")\n",
    "\n",
    "y_pred_logit = logit_gscv.best_estimator_.predict(X_test)\n",
    "print(confusion_matrix(y_test, y_pred_logit))"
   ]
  },
  {
   "cell_type": "code",
   "execution_count": 9,
   "metadata": {},
   "outputs": [
    {
     "name": "stdout",
     "output_type": "stream",
     "text": [
      "Best Tree parameters: {'tree__max_depth': 2, 'tree__min_samples_split': 2}\n",
      "AUC: 0.80838\n",
      "[[15  6]\n",
      " [ 7 27]]\n"
     ]
    }
   ],
   "source": [
    "tree_pipeline = Pipeline([\n",
    "    ('preprocessor', ct),\n",
    "    ('tree', DecisionTreeClassifier(random_state=10))\n",
    "])\n",
    "\n",
    "tree_params = {'tree__max_depth': range(1, 20), 'tree__min_samples_split': range(2, 10)}\n",
    "tree_gscv = GridSearchCV(tree_pipeline, tree_params, cv=5, scoring='roc_auc')\n",
    "tree_gscv.fit(X_train, y_train)\n",
    "\n",
    "print(f\"Best Tree parameters: {tree_gscv.best_params_}\")\n",
    "print(f\"AUC: {tree_gscv.best_score_.round(5)}\")\n",
    "\n",
    "y_pred_tree = tree_gscv.best_estimator_.predict(X_test)\n",
    "print(confusion_matrix(y_test, y_pred_tree))"
   ]
  },
  {
   "cell_type": "markdown",
   "metadata": {},
   "source": [
    "### Interpretation"
   ]
  },
  {
   "cell_type": "code",
   "execution_count": 43,
   "metadata": {},
   "outputs": [
    {
     "name": "stdout",
     "output_type": "stream",
     "text": [
      "Logistic Coefficients:\n",
      "age: -0.10003412393098401\n",
      "sex: -0.2194021717506278\n",
      "cp: 0.25875302572299697\n",
      "trtbps: -0.09058342895414832\n",
      "chol: -0.04861072310256404\n",
      "restecg: 0.07975005070639171\n",
      "thalach: 0.263116667106208\n"
     ]
    }
   ],
   "source": [
    "logit_coefs = logit_gscv.best_estimator_.named_steps['logit'].coef_\n",
    "features = X.columns\n",
    "print(\"Logistic Coefficients:\")\n",
    "for feature, coef in zip(features, logit_coefs[0]):\n",
    "    print(f\"{feature}: {coef}\")"
   ]
  },
  {
   "cell_type": "code",
   "execution_count": 44,
   "metadata": {},
   "outputs": [
    {
     "name": "stdout",
     "output_type": "stream",
     "text": [
      "Decision Tree Coefficients:\n",
      "age: 0.11402003166996835\n",
      "sex: 0.0\n",
      "cp: 0.7320101623982976\n",
      "trtbps: 0.0\n",
      "chol: 0.0\n",
      "restecg: 0.0\n",
      "thalach: 0.15396980593173412\n"
     ]
    }
   ],
   "source": [
    "tree_model = tree_gscv.best_estimator_.named_steps['tree']\n",
    "\n",
    "tree_imp = tree_model.feature_importances_\n",
    "\n",
    "print(\"Decision Tree Coefficients:\")\n",
    "for feature, important in zip(features, tree_imp):\n",
    "    print(f\"{feature}: {important}\")"
   ]
  },
  {
   "cell_type": "markdown",
   "metadata": {},
   "source": [
    "Above we can see the coefficients for the logistic regression and the decision tree model. From these coefficients we can see a few variables that are significant in both models. The most significant in both of these models is the cp variable which indicates the type of chest pain that a patient has. We can also see that age and thalatch are both important variables in each model. The logistic model places an impact on a wider variety of variables, such as sex and cholestoral. We can see that there are no variables that have a negative effect on the diagnosis for the decision tree while the logistic model has several variables that decrease the odds of being diagnosed with with a risk of heart attack."
   ]
  },
  {
   "cell_type": "code",
   "execution_count": null,
   "metadata": {},
   "outputs": [],
   "source": []
  },
  {
   "cell_type": "markdown",
   "metadata": {},
   "source": [
    "### ROC Curves"
   ]
  },
  {
   "cell_type": "code",
   "execution_count": 40,
   "metadata": {},
   "outputs": [
    {
     "data": {
      "image/png": "[encoded data removed]"
     },
     "metadata": {
      "image/png": {
       "height": 480,
       "width": 640
      }
     },
     "output_type": "display_data"
    }
   ],
   "source": [
    "knn_prob = knn_gscv.best_estimator_.predict_proba(X)[:, 1]\n",
    "knn_fpr, knn_tpr, _ = roc_curve(y, knn_prob)\n",
    "knn_auc = roc_auc_score(y, knn_prob)\n",
    "\n",
    "logit_prob = logit_gscv.best_estimator_.predict_proba(X)[:, 1]\n",
    "logit_fpr, logit_tpr, _ = roc_curve(y, logit_prob)\n",
    "logit_auc = roc_auc_score(y, logit_prob)\n",
    "\n",
    "tree_prob = tree_gscv.best_estimator_.predict_proba(X)[:, 1]\n",
    "tree_fpr, tree_tpr, _ = roc_curve(y, tree_prob)\n",
    "tree_auc = roc_auc_score(y, tree_prob)\n",
    "\n",
    "\n",
    "curve_df = pd.DataFrame({\n",
    "    'False Positive': list(knn_fpr) + list(logit_fpr) + list(tree_fpr),\n",
    "    'True Positive': list(knn_tpr) + list(logit_tpr) + list(tree_tpr),\n",
    "    'Model': (\n",
    "        ['KNN'.format(knn_auc)] * len(knn_fpr) +\n",
    "        ['Logistic'.format(logit_auc)] * len(logit_fpr) +\n",
    "        ['Decision Tree'.format(tree_auc)] * len(tree_fpr)\n",
    "    )\n",
    "})\n",
    "\n",
    "(ggplot(curve_df, pt.aes(x='False Positive', y='True Positive', color='Model')) +\n",
    "geom_line() +\n",
    "geom_abline(linetype='dashed', color='black') + \n",
    "labs(title='ROC Curves', x='False Positive Rate', y='True Positive Rate')\n",
    ")"
   ]
  },
  {
   "cell_type": "markdown",
   "metadata": {},
   "source": [
    "## Part 2: Metrics"
   ]
  },
  {
   "cell_type": "code",
   "execution_count": 22,
   "metadata": {},
   "outputs": [
    {
     "name": "stdout",
     "output_type": "stream",
     "text": [
      "KNN Recall: {0.7808}\n",
      "Logistic Recall: {0.8219}\n",
      "Decision Tree Recall: {0.6575}\n",
      "\n",
      "KNN Precision: {0.717}\n",
      "Logistic Precision: {0.7895}\n",
      "Decision Tree Precision: {0.7164}\n",
      "\n",
      "KNN Specificity: {0.6457}\n",
      "Logistic Specificity: {0.748}\n",
      "Decision Tree Specificity: {0.7008}\n"
     ]
    }
   ],
   "source": [
    "\n",
    "knn_y_pred = cross_val_predict(KNN_pipeline, X, y, cv=5)\n",
    "logit_y_pred = cross_val_predict(logit_pipeline, X, y, cv=5)\n",
    "tree_y_pred = cross_val_predict(tree_pipeline, X, y, cv=5)\n",
    "\n",
    "knn_recall = recall_score(y, knn_y_pred)\n",
    "logit_recall = recall_score(y, logit_y_pred)\n",
    "tree_recall = recall_score(y, tree_y_pred)\n",
    "\n",
    "knn_precision = precision_score(y, knn_y_pred)\n",
    "logit_precision = precision_score(y, logit_y_pred)\n",
    "tree_precision = precision_score(y, tree_y_pred)\n",
    "\n",
    "knn_conf = confusion_matrix(y, knn_y_pred)\n",
    "logit_conf = confusion_matrix(y, logit_y_pred)\n",
    "tree_conf = confusion_matrix(y, tree_y_pred)\n",
    "knn_tn, knn_fp, _, _ = knn_conf.ravel()\n",
    "logit_tn, logit_fp, _, _ = logit_conf.ravel()\n",
    "tree_tn, tree_fp, _, _ = tree_conf.ravel()\n",
    "\n",
    "knn_spec = knn_tn / (knn_tn + knn_fp)\n",
    "logit_spec = logit_tn / (logit_tn + logit_fp)\n",
    "tree_spec = tree_tn / (tree_tn + tree_fp)\n",
    "\n",
    "\n",
    "print('KNN Recall:', {knn_recall.round(4)})\n",
    "print('Logistic Recall:', {logit_recall.round(4)})\n",
    "print('Decision Tree Recall:', {tree_recall.round(4)})\n",
    "print('')\n",
    "print('KNN Precision:', {knn_precision.round(4)})\n",
    "print('Logistic Precision:', {logit_precision.round(4)})\n",
    "print('Decision Tree Precision:', {tree_precision.round(4)})\n",
    "print('')\n",
    "print('KNN Specificity:', {knn_spec.round(4)})\n",
    "print('Logistic Specificity:', {logit_spec.round(4)})\n",
    "print('Decision Tree Specificity:', {tree_spec.round(4)})\n"
   ]
  },
  {
   "cell_type": "markdown",
   "metadata": {},
   "source": [
    "## Part 3: Discussion"
   ]
  },
  {
   "cell_type": "markdown",
   "metadata": {},
   "source": [
    "Suppose you have been hired by a hospital to create classification models for heart attack risk.\n",
    "\n",
    "The following questions give a possible scenario for why the hospital is interested in these models. For each one, discuss:\n",
    "\n",
    "Which metric(s) you would use for model selection and why.\n",
    "\n",
    "Which of your final models (Part One Q1-3) you would recommend to the hospital, and why.\n",
    "\n",
    "What score you should expect for your chosen metric(s) using your chosen model to predict future observations.\n"
   ]
  },
  {
   "cell_type": "markdown",
   "metadata": {},
   "source": [
    "### Q1\n",
    "\n",
    "The hospital faces severe lawsuits if they deem a patient to be low risk, and that patient later experiences a heart attack."
   ]
  },
  {
   "cell_type": "markdown",
   "metadata": {},
   "source": [
    "The metric that I would focus on for this situation is recall. This metric looks at the rate of correctly predicited positive cases. This would be the metric to focus on because in this situation we are looking to correctly identify the patients that are at a high risk of a heart attack. The model with the best recall rate is the logistic model which has a recall rate of 0.82. Using this model we would expect a recall rate of 0.82, precision of 0.79, and specificity of 0.75."
   ]
  },
  {
   "cell_type": "markdown",
   "metadata": {},
   "source": [
    "\n",
    "### Q2\n",
    "\n",
    "The hospital is overfull, and wants to only use bed space for patients most in need of monitoring due to heart attack risk."
   ]
  },
  {
   "cell_type": "markdown",
   "metadata": {},
   "source": [
    "In this example I would focus mostly on the precision rate of the model. The precision of the model is the rate the true positives which is important here since we are looking to have the model that identifies the patients at risk of a heart attack the most. The model with the highest precision is the logistic model with a rate of 0.79. Using this model we expect to see a precision of 0.79, recall rate of 0.82, and specificity of 0.75."
   ]
  },
  {
   "cell_type": "markdown",
   "metadata": {},
   "source": [
    "\n",
    "### Q3\n",
    "\n",
    "The hospital is studying root causes of heart attacks, and would like to understand which biological measures are associated with heart attack risk."
   ]
  },
  {
   "cell_type": "markdown",
   "metadata": {},
   "source": [
    "In this case I would use the logistic model because the results of the model of interpretable. The logistic model has coefficients that can be interpreted as being more or less associated with heart attack risks. By using the logisitc model we can expect an AUC of 0.85, recall of 0.82, precision of 0.79, and specificity of 0.75. "
   ]
  },
  {
   "cell_type": "markdown",
   "metadata": {},
   "source": [
    "\n",
    "### Q4\n",
    "\n",
    "The hospital is training a new batch of doctors, and they would like to compare the diagnoses of these doctors to the predictions given by the algorithm to measure the ability of new doctors to diagnose patients."
   ]
  },
  {
   "cell_type": "markdown",
   "metadata": {},
   "source": [
    "The type of model that I would choose in this situation is the decision tree. In this example decisions trees mimic the decision making that may be done when predicting if a patient will have a certain type of diagnosis. By using the decision tree model we can compare diagnoses in a way that is easy to interpret and visualize. By using the decision tree model we expect to see a AUC of 0.8, recall of 0.66, precision of 0.72, and specificity of 0.70."
   ]
  },
  {
   "cell_type": "markdown",
   "metadata": {},
   "source": [
    "## Part 4: Validation"
   ]
  },
  {
   "cell_type": "markdown",
   "metadata": {},
   "source": [
    "Before sharing the dataset with you, I set aside a random 10% of the observations to serve as a final validation set.\n",
    "\n",
    "ha_validation = pd.read_csv(\"https://www.dropbox.com/s/jkwqdiyx6o6oad0/heart_attack_validation.csv?dl=1\")\n",
    "\n",
    "Use each of your final models in Part One Q1-3, predict the target variable in the validation dataset.\n",
    "\n",
    "For each, output a confusion matrix, and report the ROC AUC, the precision, and the recall.\n",
    "\n",
    "Compare these values to the cross-validated estimates you reported in Part One and Part Two. Did our measure of model success turn out to be approximately correct for the validation data?"
   ]
  },
  {
   "cell_type": "code",
   "execution_count": 23,
   "metadata": {},
   "outputs": [],
   "source": [
    "ha_validation = pd.read_csv(\"https://www.dropbox.com/s/jkwqdiyx6o6oad0/heart_attack_validation.csv?dl=1\")\n"
   ]
  },
  {
   "cell_type": "code",
   "execution_count": 24,
   "metadata": {},
   "outputs": [],
   "source": [
    "X_val = ha_validation.drop(columns=['output'])\n",
    "y_val = ha_validation['output']"
   ]
  },
  {
   "cell_type": "code",
   "execution_count": 33,
   "metadata": {},
   "outputs": [
    {
     "name": "stdout",
     "output_type": "stream",
     "text": [
      "[[11  0]\n",
      " [ 6 13]]\n",
      "KNN Recall: 0.6842\n",
      "KNN Precision: 1.0\n",
      "AUC KNN: 0.9354\n",
      "\n",
      "[[10  1]\n",
      " [ 4 15]]\n",
      "Logistic Recall: 0.7895\n",
      "Logistic Precision: 0.9375\n",
      "AUC Logistic: 0.9234\n",
      "\n",
      "[[10  1]\n",
      " [ 5 14]]\n",
      "Decision Tree Recall: 0.7368\n",
      "Decision Tree Precision: 0.9333\n",
      "AUC Decision Tree: 0.9043\n"
     ]
    }
   ],
   "source": [
    "knn_pred = knn_gscv.best_estimator_.predict(X_val)\n",
    "knn_prob = knn_gscv.best_estimator_.predict_proba(X_val)[:, 1]\n",
    "\n",
    "\n",
    "knn_val_conf = confusion_matrix(y_val, knn_pred)\n",
    "print(knn_val_conf)\n",
    "\n",
    "knn_recall_val = recall_score(y_val, knn_pred)\n",
    "print('KNN Recall:', knn_recall_val.round(4))\n",
    "\n",
    "knn_precision = precision_score(y_val, knn_pred)\n",
    "print('KNN Precision:', knn_precision.round(4))\n",
    "\n",
    "knn_auc_val = roc_auc_score(y_val, knn_prob)\n",
    "print('AUC KNN:', knn_auc_val.round(4))\n",
    "print('')\n",
    "\n",
    "logit_pred = logit_gscv.best_estimator_.predict(X_val)\n",
    "logit_prob = logit_gscv.best_estimator_.predict_proba(X_val)[:, 1]\n",
    "\n",
    "logit_val_conf = confusion_matrix(y_val, logit_pred)\n",
    "print(logit_val_conf)\n",
    "\n",
    "logit_recall_val = recall_score(y_val, logit_pred)\n",
    "print('Logistic Recall:', logit_recall_val.round(4))\n",
    "\n",
    "logit_precision = precision_score(y_val, logit_pred)\n",
    "print('Logistic Precision:', logit_precision.round(4))\n",
    "\n",
    "logit_auc_val = roc_auc_score(y_val, logit_prob)\n",
    "print('AUC Logistic:', logit_auc_val.round(4))\n",
    "print('')\n",
    "\n",
    "\n",
    "tree_pred = tree_gscv.best_estimator_.predict(X_val)\n",
    "tree_prob = tree_gscv.best_estimator_.predict_proba(X_val)[:, 1]\n",
    "\n",
    "tree_val_conf = confusion_matrix(y_val, tree_pred)\n",
    "print(tree_val_conf)\n",
    "\n",
    "tree_recall_val = recall_score(y_val, tree_pred)\n",
    "print('Decision Tree Recall:', tree_recall_val.round(4))\n",
    "\n",
    "tree_precision = precision_score(y_val, tree_pred)\n",
    "print('Decision Tree Precision:', tree_precision.round(4))\n",
    "\n",
    "tree_auc_val = roc_auc_score(y_val, tree_prob)\n",
    "print('AUC Decision Tree:', tree_auc_val.round(4))"
   ]
  },
  {
   "cell_type": "markdown",
   "metadata": {},
   "source": [
    "For the KNN model, the recall rate is lower than what we expected to see based on the cross validation metric. However, The precision and the AUC is much higher than expected. \n",
    "\n",
    "For the logistic regression model, the recall rate is slightly lower than what we expected, but the precision and AUC are also both higher than the cross validation metrics.\n",
    "\n",
    "For the decision tree, the recall rate, precision, and the ROC AUC are all higher than the cross validation metrics.\n",
    "\n",
    "From the new metrics we can still see that logistic is the best model in terms of recall rate. Each of the three models are relatively close together for the precision. Lastly, the ROC AUC is the highest for the KNN model which is different from the cross validation metric which had logistic being the highest."
   ]
  },
  {
   "cell_type": "markdown",
   "metadata": {},
   "source": [
    "## Part 5: Cohen’s Kappa"
   ]
  },
  {
   "cell_type": "markdown",
   "metadata": {},
   "source": [
    "Another common metric used in classification is Cohen’s Kappa.\n",
    "\n",
    "Use online resources to research this measurement. Calculate it for the models from Part One, Q1-3, and discuss reasons or scenarios that would make us prefer to use this metric as our measure of model success. Do your conclusions from above change if you judge your models using Cohen’s Kappa instead? Does this make sense?"
   ]
  },
  {
   "cell_type": "code",
   "execution_count": 38,
   "metadata": {},
   "outputs": [
    {
     "name": "stdout",
     "output_type": "stream",
     "text": [
      "KNN Cohen's Kappa: 0.6137\n",
      "Logistic Cohen's Kappa: 0.6606\n",
      "Decision Tree Cohen's Kappa: 0.6000\n"
     ]
    }
   ],
   "source": [
    "from sklearn.metrics import cohen_kappa_score\n",
    "\n",
    "def kappa(model, X_val, y_val, model_name):\n",
    "    y_pred = model.predict(X_val)\n",
    "    kappa = cohen_kappa_score(y_val, y_pred)\n",
    "    print(f\"{model_name} Cohen's Kappa: {kappa:.4f}\")\n",
    "    return kappa\n",
    "\n",
    "# Calculate Kappa for each model\n",
    "knn_kappa = kappa(knn_gscv.best_estimator_, X_val, y_val, \"KNN\")\n",
    "logreg_kappa = kappa(logit_gscv.best_estimator_, X_val, y_val, \"Logistic\")\n",
    "tree_kappa = kappa(tree_gscv.best_estimator_, X_val, y_val, \"Decision Tree\")"
   ]
  },
  {
   "cell_type": "markdown",
   "metadata": {},
   "source": [
    "The highest value for Cohen's Kappa out of these three models is 0.66 for the Logistic regression model. Cohen's Kappa is a metric that quantifies accuracy of the model while accounting for the probability that some correct matches may occur due to random chance. This seems like a good metric in examples like doctor diagnoses. By using this metric, the logisitic model is the best model for predictability which is in line with our previous results. Overall, I think that Cohen's Kappa should be a metric that we use to test for predictability in this example, but it should also be paired with other metrics like precision, sensitivity, specificity, and AUC. There will be specific instances in which a certain metric will be more important to optimze than others. In order to have a balance between precision and sensitivity, Cohen's Kappa is a useful metric as it accounts for chance, but quantifies accuracy."
   ]
  },
  {
   "cell_type": "markdown",
   "metadata": {},
   "source": [
    "Chat GPT was used to help with trouble shooting when I ran into a few different syntax errors. It also assisted with formatting the model coefficients and the data frame to make the ROC curves plot. Other than that it was only used to assist with correcting errors."
   ]
  }
 ],
 "metadata": {
  "kernelspec": {
   "display_name": "base",
   "language": "python",
   "name": "python3"
  },
  "language_info": {
   "codemirror_mode": {
    "name": "ipython",
    "version": 3
   },
   "file_extension": ".py",
   "mimetype": "text/x-python",
   "name": "python",
   "nbconvert_exporter": "python",
   "pygments_lexer": "ipython3",
   "version": "3.11.7"
  }
 },
 "nbformat": 4,
 "nbformat_minor": 2
}
