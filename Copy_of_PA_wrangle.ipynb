{
  "cells": [
    {
      "cell_type": "markdown",
      "metadata": {
        "id": "r9YPMJZueiQ_"
      },
      "source": [
        "## Intro\n",
        "\n",
        "In this PA, you will practice altering data frame objects in order to solve a riddle.\n",
        "\n",
        "### Advice for troubleshooting your code\n",
        "\n",
        "#### Check results often\n",
        "\n",
        "If a chunk of code runs smoothly without giving you any error or warnings this does not necessarily mean it accomplished the desired task.\n",
        "\n",
        "It is a good habit to check the results of your code every time you finish a task.\n",
        "\n",
        "If you created or updated a data frame, make sure your edits did what you hoped.  Use the *Environment* or the `head()` function to investigate your changes.\n",
        "\n",
        "#### Document your work\n",
        "\n",
        "In the text before the code chunk, make sure to briefly state what the point of the chunk is.  This will remind later readers - which might be your future self! - what the desired output is.\n",
        "\n",
        "Use comments in the code to give quick explanations of the goals of complex steps.\n",
        "\n",
        "#### Two heads are better than one\n",
        "\n",
        "It can be hard to spot bugs in code that you yourself wrote.t\n",
        "(Have you ever sent a text message and not spotted an obvious  typo?  Same idea!)\n",
        "\n",
        "Work with people around you if you can - if something goes wrong, ask a friend to take a peek at your code and see if any glaring errors (like *syntax error*) pop out.\n",
        "\n",
        "#### Explain your code out loud\n",
        "\n",
        "The best way to troubleshoot a sneaky bug is to explain out loud each step of your code, and what you hoped to accomplish.\n",
        "\n",
        "If you are alone, try [Rubber Duck Debugging](https://en.wikipedia.org/wiki/Rubber_duck_debugging)!\n",
        "\n",
        "#### Google is your friend\n",
        "\n",
        "The whole of the internet is at your disposal!  Use it early, use it often.\n",
        "\n",
        "Copy-paste the exact error message into Google. Chances are, somebody else had a similar problem and got a similar message.\n",
        "\n",
        "\n",
        "Include package names in your search terms.  For example, \"bar plot in plotnine with pandas data frame\" is a better search than \"bar plot in python\".\n",
        "\n",
        "\n",
        "## Part One: Data import and cleaning\n",
        "\n",
        "This section will walk you through some steps to clean up today's dataset, so that you can use it more easily in Part Two.  \n",
        "\n",
        "First, we declare our package dependencies and load the data.\n",
        "\n",
        "(Note that the data loading function `read_csv` will give you an outpouring of helpful information about the dataset.  If you do not see the word \"error\", there is nothing to be concerned about.)\n"
      ]
    },
    {
      "cell_type": "code",
      "execution_count": 63,
      "metadata": {
        "id": "9asR0S4_eiRA"
      },
      "outputs": [],
      "source": [
        "import numpy as np\n",
        "import pandas as pd\n",
        "\n",
        "colleges = pd.read_csv(\"https://www.dropbox.com/s/bt5hvctdevhbq6j/colleges.csv?dl=1\")\n",
        "\n"
      ]
    },
    {
      "cell_type": "markdown",
      "metadata": {
        "id": "ZdYqoIsieiRB"
      },
      "source": [
        "The code chunks in this section will cause an error and/or do the desired task incorrectly.  (Even the chunks that run without error are not correct!) You will need to find the mistake, and correct it, to complete the intended action.\n",
        "\n",
        "None of the *text* is incorrect, only the *code* - your goal is to make the code do exactly what the documentation claims it will.\n",
        "\n",
        "#### 1. Narrow down the columns to variables of interest\n",
        "\n",
        "There are too many variables in this dataset.  We don't need all of them. We will limit our dataset down to only:\n",
        "\n",
        "Name of the institution\n",
        "City, State, and ZIP code of the institution\n",
        "The Admissions Rate\n",
        "The average SAT score\n",
        "The number of undergraduate students\n",
        "The in and out of state tuitions\n",
        "Whether the school is public or private\n",
        "The \"REGION\" variable.\n"
      ]
    },
    {
      "cell_type": "code",
      "execution_count": 64,
      "metadata": {
        "id": "1QZE0D5TeiRC"
      },
      "outputs": [],
      "source": [
        "colleges_clean = colleges[['INSTNM', 'CITY', 'STABBR', 'ZIP', 'CONTROL', 'ADM_RATE', 'SAT_AVG', 'TUITIONFEE_IN', 'TUITIONFEE_OUT', 'UGDS', 'REGION']]"
      ]
    },
    {
      "cell_type": "markdown",
      "metadata": {
        "id": "p-0lfoOleiRC"
      },
      "source": [
        "#### 2. Remove observations that aren't needed\n",
        "\n",
        "Drop the schools that are \"private for-profit\" (category 3).  We will not need these for the puzzle.\n"
      ]
    },
    {
      "cell_type": "code",
      "execution_count": 65,
      "metadata": {
        "id": "E7Xx6YsKeiRC"
      },
      "outputs": [],
      "source": [
        "colleges_clean = colleges_clean[(colleges_clean['CONTROL'] == 1)| (colleges_clean['CONTROL'] == 2)]"
      ]
    },
    {
      "cell_type": "markdown",
      "metadata": {
        "id": "NEM5H8nYeiRC"
      },
      "source": [
        "### 3. Adjust variable types: Numeric\n",
        "\n",
        "Some of the columns of the dataset were automatically understood by the computer to be categorical, due to missing data appearing like strings.\n",
        "\n",
        "Adjust the appropriate columns to be numeric.\n"
      ]
    },
    {
      "cell_type": "code",
      "execution_count": 66,
      "metadata": {
        "colab": {
          "base_uri": "https://localhost:8080/",
          "height": 380
        },
        "id": "cIOpSHCjeiRC",
        "outputId": "d1d1835a-093a-4119-fab6-854e1e0e26b2"
      },
      "outputs": [],
      "source": [
        "colleges_clean['TUITIONFEE_IN'] = pd.to_numeric(colleges_clean['TUITIONFEE_IN'])\n",
        "\n",
        "colleges_clean['TUITIONFEE_OUT'] = pd.to_numeric(colleges_clean['TUITIONFEE_OUT'])\n",
        "\n",
        "colleges_clean['SAT_AVG'] = pd.to_numeric(colleges_clean['SAT_AVG'])\n",
        "\n",
        "colleges_clean['ADM_RATE'] = pd.to_numeric(colleges_clean['ADM_RATE'])"
      ]
    },
    {
      "cell_type": "markdown",
      "metadata": {
        "id": "zKH6226NeiRC"
      },
      "source": [
        "### 4. Adjust variable types: Categorical\n",
        "\n",
        "Similarly, columns of the dataset that are not numbers are automatically understood by the computer to be strings.\n",
        "\n",
        "We know, however, that some variables are truly *categorical*, in that there are only a few categories (or \"levels\") that can be values of the column.\n",
        "\n",
        "Adjust the appropriate columns to be understood as categorical.\n"
      ]
    },
    {
      "cell_type": "code",
      "execution_count": 67,
      "metadata": {
        "colab": {
          "base_uri": "https://localhost:8080/",
          "height": 458
        },
        "id": "TFBmCHMLeiRD",
        "outputId": "e75a3b6c-5759-4b96-cc74-b44ff670f668"
      },
      "outputs": [
        {
          "data": {
            "text/plain": [
              "0       5\n",
              "1       5\n",
              "2       5\n",
              "3       5\n",
              "4       5\n",
              "       ..\n",
              "7050    6\n",
              "7051    6\n",
              "7052    6\n",
              "7053    6\n",
              "7056    1\n",
              "Name: REGION, Length: 4089, dtype: category\n",
              "Categories (10, int64): [0, 1, 2, 3, ..., 6, 7, 8, 9]"
            ]
          },
          "execution_count": null,
          "metadata": {},
          "output_type": "execute_result"
        }
      ],
      "source": [
        "colleges_clean['CONTROL'].astype('category')\n",
        "colleges_clean['REGION'].astype('category')"
      ]
    },
    {
      "cell_type": "markdown",
      "metadata": {
        "id": "ra03-sWbeiRD"
      },
      "source": [
        "#### 5. Calculate new variables\n",
        "\n",
        "Create a new variable called TUITION_DIFF which contains the difference between in and out of state costs.\n"
      ]
    },
    {
      "cell_type": "code",
      "execution_count": 68,
      "metadata": {
        "id": "i3gRwBgbeiRD"
      },
      "outputs": [],
      "source": [
        "colleges_clean['TUITION_DIFF'] = colleges_clean['TUITIONFEE_OUT']- colleges_clean['TUITIONFEE_IN']"
      ]
    },
    {
      "cell_type": "markdown",
      "metadata": {
        "id": "aBNvuTWCeiRD"
      },
      "source": [
        "#### 6. Deal with missing data\n",
        "\n",
        "Drop all the rows with missing data.\n",
        "\n",
        "(It is often a terrible idea to simply drop all rows with *any* missing data!  Usually, even if *some* of the information is missing, we don't want to throw out the entire row.  In this example, however, we'll be lazy.)\n"
      ]
    },
    {
      "cell_type": "code",
      "execution_count": 69,
      "metadata": {
        "id": "520ghDYBeiRD"
      },
      "outputs": [
        {
          "name": "stdout",
          "output_type": "stream",
          "text": [
            "                                   INSTNM              CITY STABBR  ...     UGDS  REGION  TUITION_DIFF\n",
            "0                Alabama A & M University            Normal     AL  ...   4824.0       5        8379.0\n",
            "1     University of Alabama at Birmingham        Birmingham     AL  ...  12866.0       5       10704.0\n",
            "3     University of Alabama in Huntsville        Huntsville     AL  ...   6917.0       5       11200.0\n",
            "4                Alabama State University        Montgomery     AL  ...   4189.0       5        8328.0\n",
            "5               The University of Alabama        Tuscaloosa     AL  ...  32387.0       5       17320.0\n",
            "...                                   ...               ...    ...  ...      ...     ...           ...\n",
            "6391                     Milligan College  Milligan College     TN  ...    806.0       5           0.0\n",
            "6401      Emory University-Oxford College            Oxford     GA  ...    979.0       5           0.0\n",
            "6424                    Husson University            Bangor     ME  ...   2652.0       1           0.0\n",
            "6532    Piedmont International University     Winston-Salem     NC  ...    336.0       5           0.0\n",
            "6589          Purdue University Northwest           Hammond     IN  ...   8665.0       3        9547.0\n",
            "\n",
            "[1310 rows x 12 columns]\n",
            "                                   INSTNM              CITY STABBR  ...     UGDS  REGION  TUITION_DIFF\n",
            "0                Alabama A & M University            Normal     AL  ...   4824.0       5        8379.0\n",
            "1     University of Alabama at Birmingham        Birmingham     AL  ...  12866.0       5       10704.0\n",
            "3     University of Alabama in Huntsville        Huntsville     AL  ...   6917.0       5       11200.0\n",
            "4                Alabama State University        Montgomery     AL  ...   4189.0       5        8328.0\n",
            "5               The University of Alabama        Tuscaloosa     AL  ...  32387.0       5       17320.0\n",
            "...                                   ...               ...    ...  ...      ...     ...           ...\n",
            "6391                     Milligan College  Milligan College     TN  ...    806.0       5           0.0\n",
            "6401      Emory University-Oxford College            Oxford     GA  ...    979.0       5           0.0\n",
            "6424                    Husson University            Bangor     ME  ...   2652.0       1           0.0\n",
            "6532    Piedmont International University     Winston-Salem     NC  ...    336.0       5           0.0\n",
            "6589          Purdue University Northwest           Hammond     IN  ...   8665.0       3        9547.0\n",
            "\n",
            "[1310 rows x 12 columns]\n"
          ]
        }
      ],
      "source": [
        "colleges_clean = colleges_clean.dropna(axis=0)\n",
        "colleges_clean\n",
        "\n",
        "print(colleges_clean)"
      ]
    },
    {
      "cell_type": "markdown",
      "metadata": {
        "id": "HviEJnpPeiRD"
      },
      "source": [
        "## Part Two:  Identify the mystery college\n",
        "\n",
        "Wow!  Your best friend Ephelia has been accepted to the college of her dreams!  Unfortunately, Ephelia is a very mysterious person, and she won't tell you directly which college this is.  You'll have to use her clues to figure out which school is her dream school.\n",
        "\n",
        "Clues:\n",
        "\n",
        "1. This college is located in Region 1.\n",
        "\n",
        "2. This college's admission rate is in the first quartile for the region.\n",
        "\n",
        "3. This college charges the same for in- and out-of-state tuition.\n",
        "\n",
        "4. The average SAT score of this college is an odd number.\n",
        "\n",
        "5. This college is NOT in New Hampshire or in the city of Boston.\n",
        "\n",
        "6. More than 3,000 people apply to this college every year.  (Hint: Make a new variable to compute how many people apply.  Assume the size of an incoming class is 1/4 of the total undergraduate population, and remember that not everyone who *applies* is *admitted*.)\n",
        "\n",
        "7. Ephelia is not going to an Ivy League school.\n",
        "\n",
        "8. Of the two options remaining at this step, Ephelia will attend the cheaper one.\n"
      ]
    },
    {
      "cell_type": "code",
      "execution_count": 70,
      "metadata": {},
      "outputs": [
        {
          "data": {
            "text/html": [
              "<div>\n",
              "<style scoped>\n",
              "    .dataframe tbody tr th:only-of-type {\n",
              "        vertical-align: middle;\n",
              "    }\n",
              "\n",
              "    .dataframe tbody tr th {\n",
              "        vertical-align: top;\n",
              "    }\n",
              "\n",
              "    .dataframe thead th {\n",
              "        text-align: right;\n",
              "    }\n",
              "</style>\n",
              "<table border=\"1\" class=\"dataframe\">\n",
              "  <thead>\n",
              "    <tr style=\"text-align: right;\">\n",
              "      <th></th>\n",
              "      <th>INSTNM</th>\n",
              "      <th>CITY</th>\n",
              "      <th>STABBR</th>\n",
              "      <th>ZIP</th>\n",
              "      <th>CONTROL</th>\n",
              "      <th>ADM_RATE</th>\n",
              "      <th>SAT_AVG</th>\n",
              "      <th>TUITIONFEE_IN</th>\n",
              "      <th>TUITIONFEE_OUT</th>\n",
              "      <th>UGDS</th>\n",
              "      <th>REGION</th>\n",
              "      <th>TUITION_DIFF</th>\n",
              "    </tr>\n",
              "  </thead>\n",
              "  <tbody>\n",
              "    <tr>\n",
              "      <th>578</th>\n",
              "      <td>Albertus Magnus College</td>\n",
              "      <td>New Haven</td>\n",
              "      <td>CT</td>\n",
              "      <td>06511-1189</td>\n",
              "      <td>2</td>\n",
              "      <td>0.6388</td>\n",
              "      <td>930.0</td>\n",
              "      <td>31140.0</td>\n",
              "      <td>31140.0</td>\n",
              "      <td>1122.0</td>\n",
              "      <td>1</td>\n",
              "      <td>0.0</td>\n",
              "    </tr>\n",
              "    <tr>\n",
              "      <th>584</th>\n",
              "      <td>University of Bridgeport</td>\n",
              "      <td>Bridgeport</td>\n",
              "      <td>CT</td>\n",
              "      <td>06604-5620</td>\n",
              "      <td>2</td>\n",
              "      <td>0.5389</td>\n",
              "      <td>969.0</td>\n",
              "      <td>32250.0</td>\n",
              "      <td>32250.0</td>\n",
              "      <td>3129.0</td>\n",
              "      <td>1</td>\n",
              "      <td>0.0</td>\n",
              "    </tr>\n",
              "    <tr>\n",
              "      <th>585</th>\n",
              "      <td>Central Connecticut State University</td>\n",
              "      <td>New Britain</td>\n",
              "      <td>CT</td>\n",
              "      <td>6050</td>\n",
              "      <td>1</td>\n",
              "      <td>0.6676</td>\n",
              "      <td>1071.0</td>\n",
              "      <td>10225.0</td>\n",
              "      <td>22914.0</td>\n",
              "      <td>9317.0</td>\n",
              "      <td>1</td>\n",
              "      <td>12689.0</td>\n",
              "    </tr>\n",
              "    <tr>\n",
              "      <th>590</th>\n",
              "      <td>University of Connecticut</td>\n",
              "      <td>Storrs</td>\n",
              "      <td>CT</td>\n",
              "      <td>6269</td>\n",
              "      <td>1</td>\n",
              "      <td>0.4784</td>\n",
              "      <td>1313.0</td>\n",
              "      <td>14880.0</td>\n",
              "      <td>36948.0</td>\n",
              "      <td>18930.0</td>\n",
              "      <td>1</td>\n",
              "      <td>22068.0</td>\n",
              "    </tr>\n",
              "    <tr>\n",
              "      <th>600</th>\n",
              "      <td>University of Hartford</td>\n",
              "      <td>West Hartford</td>\n",
              "      <td>CT</td>\n",
              "      <td>06117-1599</td>\n",
              "      <td>2</td>\n",
              "      <td>0.8089</td>\n",
              "      <td>1140.0</td>\n",
              "      <td>38910.0</td>\n",
              "      <td>38910.0</td>\n",
              "      <td>4835.0</td>\n",
              "      <td>1</td>\n",
              "      <td>0.0</td>\n",
              "    </tr>\n",
              "    <tr>\n",
              "      <th>...</th>\n",
              "      <td>...</td>\n",
              "      <td>...</td>\n",
              "      <td>...</td>\n",
              "      <td>...</td>\n",
              "      <td>...</td>\n",
              "      <td>...</td>\n",
              "      <td>...</td>\n",
              "      <td>...</td>\n",
              "      <td>...</td>\n",
              "      <td>...</td>\n",
              "      <td>...</td>\n",
              "      <td>...</td>\n",
              "    </tr>\n",
              "    <tr>\n",
              "      <th>4764</th>\n",
              "      <td>University of Connecticut-Avery Point</td>\n",
              "      <td>Groton</td>\n",
              "      <td>CT</td>\n",
              "      <td>06340-6097</td>\n",
              "      <td>1</td>\n",
              "      <td>0.9416</td>\n",
              "      <td>1111.0</td>\n",
              "      <td>12838.0</td>\n",
              "      <td>34906.0</td>\n",
              "      <td>619.0</td>\n",
              "      <td>1</td>\n",
              "      <td>22068.0</td>\n",
              "    </tr>\n",
              "    <tr>\n",
              "      <th>4765</th>\n",
              "      <td>University of Connecticut-Stamford</td>\n",
              "      <td>Stamford</td>\n",
              "      <td>CT</td>\n",
              "      <td>06901-2315</td>\n",
              "      <td>1</td>\n",
              "      <td>0.8232</td>\n",
              "      <td>1085.0</td>\n",
              "      <td>12848.0</td>\n",
              "      <td>34916.0</td>\n",
              "      <td>1670.0</td>\n",
              "      <td>1</td>\n",
              "      <td>22068.0</td>\n",
              "    </tr>\n",
              "    <tr>\n",
              "      <th>4915</th>\n",
              "      <td>Franklin W Olin College of Engineering</td>\n",
              "      <td>Needham</td>\n",
              "      <td>MA</td>\n",
              "      <td>02492-1200</td>\n",
              "      <td>2</td>\n",
              "      <td>0.1337</td>\n",
              "      <td>1522.0</td>\n",
              "      <td>51936.0</td>\n",
              "      <td>51936.0</td>\n",
              "      <td>345.0</td>\n",
              "      <td>1</td>\n",
              "      <td>0.0</td>\n",
              "    </tr>\n",
              "    <tr>\n",
              "      <th>5848</th>\n",
              "      <td>University of Connecticut-Hartford Campus</td>\n",
              "      <td>Hartford</td>\n",
              "      <td>CT</td>\n",
              "      <td>6103</td>\n",
              "      <td>1</td>\n",
              "      <td>0.9597</td>\n",
              "      <td>1101.0</td>\n",
              "      <td>12828.0</td>\n",
              "      <td>34896.0</td>\n",
              "      <td>1244.0</td>\n",
              "      <td>1</td>\n",
              "      <td>22068.0</td>\n",
              "    </tr>\n",
              "    <tr>\n",
              "      <th>6424</th>\n",
              "      <td>Husson University</td>\n",
              "      <td>Bangor</td>\n",
              "      <td>ME</td>\n",
              "      <td>04401-2929</td>\n",
              "      <td>2</td>\n",
              "      <td>0.8627</td>\n",
              "      <td>1048.0</td>\n",
              "      <td>17561.0</td>\n",
              "      <td>17561.0</td>\n",
              "      <td>2652.0</td>\n",
              "      <td>1</td>\n",
              "      <td>0.0</td>\n",
              "    </tr>\n",
              "  </tbody>\n",
              "</table>\n",
              "<p>89 rows × 12 columns</p>\n",
              "</div>"
            ],
            "text/plain": [
              "                                         INSTNM           CITY STABBR  ...     UGDS  REGION  TUITION_DIFF\n",
              "578                     Albertus Magnus College      New Haven     CT  ...   1122.0       1           0.0\n",
              "584                    University of Bridgeport     Bridgeport     CT  ...   3129.0       1           0.0\n",
              "585        Central Connecticut State University    New Britain     CT  ...   9317.0       1       12689.0\n",
              "590                   University of Connecticut         Storrs     CT  ...  18930.0       1       22068.0\n",
              "600                      University of Hartford  West Hartford     CT  ...   4835.0       1           0.0\n",
              "...                                         ...            ...    ...  ...      ...     ...           ...\n",
              "4764      University of Connecticut-Avery Point         Groton     CT  ...    619.0       1       22068.0\n",
              "4765         University of Connecticut-Stamford       Stamford     CT  ...   1670.0       1       22068.0\n",
              "4915     Franklin W Olin College of Engineering        Needham     MA  ...    345.0       1           0.0\n",
              "5848  University of Connecticut-Hartford Campus       Hartford     CT  ...   1244.0       1       22068.0\n",
              "6424                          Husson University         Bangor     ME  ...   2652.0       1           0.0\n",
              "\n",
              "[89 rows x 12 columns]"
            ]
          },
          "execution_count": null,
          "metadata": {},
          "output_type": "execute_result"
        }
      ],
      "source": [
        "colleges_clean = colleges_clean[(colleges_clean['REGION']==1)]"
      ]
    },
    {
      "cell_type": "code",
      "execution_count": 71,
      "metadata": {},
      "outputs": [],
      "source": [
        "colleges_clean.describe()\n",
        "\n",
        "colleges_clean = colleges_clean[(colleges_clean['ADM_RATE']<=3)]\n",
        "\n"
      ]
    },
    {
      "cell_type": "code",
      "execution_count": 98,
      "metadata": {},
      "outputs": [
        {
          "data": {
            "text/plain": [
              "INSTNM            Williams College\n",
              "CITY                  Williamstown\n",
              "STABBR                          MA\n",
              "ZIP                           1267\n",
              "CONTROL                          2\n",
              "ADM_RATE                    0.1458\n",
              "SAT_AVG                     1493.0\n",
              "TUITIONFEE_IN              53550.0\n",
              "TUITIONFEE_OUT             53550.0\n",
              "UGDS                        2033.0\n",
              "REGION                           1\n",
              "TUITION_DIFF                   0.0\n",
              "AP_NUM                 3485.939643\n",
              "Name: 1619, dtype: object"
            ]
          },
          "execution_count": null,
          "metadata": {},
          "output_type": "execute_result"
        }
      ],
      "source": [
        "colleges_clean = colleges_clean[(colleges_clean['TUITION_DIFF']==0)]\n",
        "\n",
        "colleges_clean = colleges_clean[(colleges_clean['SAT_AVG']%2!=0)]\n",
        "\n",
        "colleges_clean =colleges_clean[(colleges_clean['STABBR']!='NH')&(colleges_clean['CITY']!='Boston')]\n",
        "\n",
        "colleges_clean[\"AP_NUM\"] = (colleges_clean['UGDS']/4)/colleges_clean['ADM_RATE']\n",
        "colleges_clean = colleges_clean[(colleges_clean['AP_NUM'])>=3000]\n",
        "\n",
        "colleges_clean = colleges_clean[(colleges_clean['INSTNM']!=\"Harvard University\")]\n",
        "\n",
        "colleges_clean.loc[colleges_clean['TUITIONFEE_IN'].idxmin()]\n"
      ]
    }
  ],
  "metadata": {
    "colab": {
      "provenance": []
    },
    "kernelspec": {
      "display_name": "Python 3 (ipykernel)",
      "language": "python",
      "name": "python3"
    },
    "language_info": {
      "name": "python"
    }
  },
  "nbformat": 4,
  "nbformat_minor": 0
}
