{
 "cells": [
  {
   "cell_type": "code",
   "execution_count": 2,
   "metadata": {},
   "outputs": [],
   "source": [
    "def sing_verse(num):\n",
    "  song = str(num) + \" bottles of beer on the wall \\n\" + str(num) + \" bottles of beer \\n\" + \" take one down, pass it around, \\n\" + str(num-1) + \" bottles of beer on the wall \\n\"\n",
    "  \n",
    "  return song\n",
    "\n"
   ]
  },
  {
   "cell_type": "code",
   "execution_count": 4,
   "metadata": {},
   "outputs": [
    {
     "name": "stdout",
     "output_type": "stream",
     "text": [
      "100 bottles of beer on the wall \n",
      "100 bottles of beer \n",
      " take one down, pass it around, \n",
      "99 bottles of beer on the wall \n",
      "99 bottles of beer on the wall \n",
      "99 bottles of beer \n",
      " take one down, pass it around, \n",
      "98 bottles of beer on the wall \n",
      "98 bottles of beer on the wall \n",
      "98 bottles of beer \n",
      " take one down, pass it around, \n",
      "97 bottles of beer on the wall \n",
      "\n",
      "100 bottles of beer on the wall \n",
      "100 bottles of beer \n",
      " take one down, pass it around, \n",
      "99 bottles of beer on the wall \n",
      "99 bottles of beer on the wall \n",
      "99 bottles of beer \n",
      " take one down, pass it around, \n",
      "98 bottles of beer on the wall \n",
      "98 bottles of beer on the wall \n",
      "98 bottles of beer \n",
      " take one down, pass it around, \n",
      "97 bottles of beer on the wall \n",
      "\n"
     ]
    }
   ],
   "source": [
    "song = \"\"\n",
    "\n",
    "for i in range(100,97,-1):\n",
    "  song = song + sing_verse(i)\n",
    "  \n",
    "print(song)"
   ]
  },
  {
   "cell_type": "code",
   "execution_count": 5,
   "metadata": {},
   "outputs": [
    {
     "name": "stdout",
     "output_type": "stream",
     "text": [
      "['100 bottles of beer on the wall \\n100 bottles of beer \\n take one down, pass it around, \\n99 bottles of beer on the wall \\n', '99 bottles of beer on the wall \\n99 bottles of beer \\n take one down, pass it around, \\n98 bottles of beer on the wall \\n', '98 bottles of beer on the wall \\n98 bottles of beer \\n take one down, pass it around, \\n97 bottles of beer on the wall \\n']\n",
      "['100 bottles of beer on the wall \\n100 bottles of beer \\n take one down, pass it around, \\n99 bottles of beer on the wall \\n', '99 bottles of beer on the wall \\n99 bottles of beer \\n take one down, pass it around, \\n98 bottles of beer on the wall \\n', '98 bottles of beer on the wall \\n98 bottles of beer \\n take one down, pass it around, \\n97 bottles of beer on the wall \\n']\n"
     ]
    }
   ],
   "source": [
    " \n",
    "song = []\n",
    "\n",
    "for i in range(100,97,-1):\n",
    "  song.append(sing_verse(i))\n",
    "  \n",
    "print(song)"
   ]
  },
  {
   "cell_type": "code",
   "execution_count": 7,
   "metadata": {},
   "outputs": [
    {
     "name": "stdout",
     "output_type": "stream",
     "text": [
      "-2\n",
      "1.0\n",
      "-3\n",
      "-9\n",
      "2.6457513110645907\n",
      "-2\n",
      "1.0\n",
      "-3\n",
      "-9\n",
      "2.6457513110645907\n"
     ]
    }
   ],
   "source": [
    "import numpy as np\n",
    "a_vec = np.array([-2, 1, -3, -9, 7])\n",
    "\n",
    "for val in a_vec:\n",
    "  if val > 0:\n",
    "    val = np.sqrt(val)\n",
    "  print(val)"
   ]
  },
  {
   "cell_type": "code",
   "execution_count": 8,
   "metadata": {},
   "outputs": [
    {
     "data": {
      "text/plain": [
       "array([-2,  1, -3, -9,  2])"
      ]
     },
     "execution_count": null,
     "metadata": {},
     "output_type": "execute_result"
    }
   ],
   "source": [
    "is_pos = a_vec > 0\n",
    "\n",
    "a_vec[is_pos] = np.sqrt(a_vec[is_pos])\n",
    "\n",
    "a_vec"
   ]
  },
  {
   "cell_type": "code",
   "execution_count": 31,
   "metadata": {},
   "outputs": [
    {
     "name": "stdout",
     "output_type": "stream",
     "text": [
      "['', 1.0, '', '', 1.4142135623730951]\n",
      "['', 1.0, '', '', 1.4142135623730951]\n"
     ]
    }
   ],
   "source": [
    "def sqrt_pos_unvec(num):\n",
    "    if num>0:\n",
    "        return np.sqrt(num)\n",
    "    else:\n",
    "        return \"\"\n",
    "\n",
    "new_vec = []\n",
    "for i in a_vec:\n",
    "    new_vec.append(sqrt_pos_unvec(i))\n",
    "print(new_vec)"
   ]
  },
  {
   "cell_type": "code",
   "execution_count": 35,
   "metadata": {},
   "outputs": [
    {
     "data": {
      "text/plain": [
       "array([  3,   5,   6, -10])"
      ]
     },
     "execution_count": null,
     "metadata": {},
     "output_type": "execute_result"
    }
   ],
   "source": [
    "array = np.array([10,30,40,-10])\n",
    "\n",
    "def sqrt_pos_vec(x):\n",
    "    is_pos = x > 0\n",
    "    x[is_pos] = np.sqrt(x[is_pos])\n",
    "\n",
    "    return x\n",
    "\n",
    "sqrt_pos_vec(array)"
   ]
  }
 ],
 "metadata": {
  "language_info": {
   "name": "python"
  }
 },
 "nbformat": 4,
 "nbformat_minor": 2
}
