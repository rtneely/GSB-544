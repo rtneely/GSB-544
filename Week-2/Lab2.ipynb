{
 "cells": [
  {
   "cell_type": "raw",
   "metadata": {
    "vscode": {
     "languageId": "raw"
    }
   },
   "source": [
    "---\n",
    "title: Lab 2: Avacado Sales\n",
    "author: Ryan Neely\n",
    "format:\n",
    "    html:\n",
    "        toc: true\n",
    "        code-fold: true\n",
    "        embed-resources: true\n",
    "        echo: true\n",
    "---"
   ]
  },
  {
   "cell_type": "code",
   "execution_count": 1,
   "metadata": {},
   "outputs": [],
   "source": [
    "import pandas as pd"
   ]
  },
  {
   "cell_type": "code",
   "execution_count": 4,
   "metadata": {},
   "outputs": [],
   "source": [
    "df = pd.read_csv('avocado-updated-2020.csv')"
   ]
  },
  {
   "cell_type": "markdown",
   "metadata": {},
   "source": [
    "# Step 1"
   ]
  },
  {
   "cell_type": "markdown",
   "metadata": {
    "vscode": {
     "languageId": "plaintext"
    }
   },
   "source": [
    "The data includes information on the prices and sales of avacados by year and region. It also segments the sales by small, large, and extra large bags, as well as by type of avacado."
   ]
  },
  {
   "cell_type": "markdown",
   "metadata": {},
   "source": [
    "# Step 2"
   ]
  },
  {
   "cell_type": "code",
   "execution_count": 13,
   "metadata": {},
   "outputs": [],
   "source": [
    "region_mapping = {\n",
    "    'Albany': 'Northeast',\n",
    "    'Boston': 'Northeast',\n",
    "    'Buffalo/Rochester': 'Northeast',\n",
    "    'Hartford/Springfield': 'Northeast',\n",
    "    'Baltimore/Washington': 'Northeast',\n",
    "    'Philadelphia': 'Northeast',\n",
    "    'Harrisburg/Scranton':'Northeast',\n",
    "    'New York':'Northeast',\n",
    "    'Northern New England':'Northeast',\n",
    "    'Pittsburgh':'Northeast',\n",
    "    'Richmond/Norfolk':'Northeast',\n",
    "    'Roanoke':'Northeast',\n",
    "    'Syracuse':'Northeast',\n",
    "    'Northeast':'Northeast',\n",
    "\n",
    "    'Atlanta': 'South',\n",
    "    'Charlotte': 'South',\n",
    "    'Dallas/Ft. Worth': 'South',\n",
    "    'Houston': 'South',\n",
    "    'Miami/Ft. Lauderdale': 'South',\n",
    "    'Nashville': 'South',\n",
    "    'Orlando': 'South',\n",
    "    'Raleigh/Greensboro': 'South',\n",
    "    'Jacksonville':'South',\n",
    "    'Midsouth':'South',\n",
    "    'New Orleans/Mobile':'South',\n",
    "    'South Carolina':'South',\n",
    "    'Southeast':'South',\n",
    "    'Tampa':'South',\n",
    "\n",
    "    'Chicago': 'Midwest',\n",
    "    'Cincinnati/Dayton': 'Midwest',\n",
    "    'Columbus': 'Midwest',\n",
    "    'Detroit': 'Midwest',\n",
    "    'Indianapolis': 'Midwest',\n",
    "    'Grand Rapids': 'Midwest',\n",
    "    'Great Lakes': 'Midwest',\n",
    "    'Louisville': 'Midwest',\n",
    "    'Plains':'Midwest',\n",
    "    'South Central':'Midwest',\n",
    "    'St. Louis':'Midwest',\n",
    "\n",
    "    'California': 'West',\n",
    "    'Denver': 'West',\n",
    "    'Boise': 'West',\n",
    "    'Phoenix/Tucson': 'West',\n",
    "    'Portland': 'West',\n",
    "    'Seattle': 'West',\n",
    "    'Las Vegas': 'West',\n",
    "    'San Francisco': 'West',\n",
    "    'Los Angeles': 'West',\n",
    "    'San Diego':'West',\n",
    "    'Sacramento':'West',\n",
    "    'Spokane':'West',\n",
    "    'West Tex/New Mexico':'West',\n",
    "    'West':'West',\n",
    "\n",
    "    'Total U.S.':'Total'\n",
    "}\n",
    "\n",
    "df['region'] = df['geography'].map(region_mapping)"
   ]
  },
  {
   "cell_type": "code",
   "execution_count": 27,
   "metadata": {},
   "outputs": [],
   "source": [
    "df.rename(columns = {\n",
    "    '4046':'small', '4225':'medium', '4770':'large'},\n",
    "    inplace=True\n",
    ")"
   ]
  },
  {
   "cell_type": "code",
   "execution_count": 26,
   "metadata": {},
   "outputs": [
    {
     "data": {
      "text/html": [
       "<div>\n",
       "<style scoped>\n",
       "    .dataframe tbody tr th:only-of-type {\n",
       "        vertical-align: middle;\n",
       "    }\n",
       "\n",
       "    .dataframe tbody tr th {\n",
       "        vertical-align: top;\n",
       "    }\n",
       "\n",
       "    .dataframe thead th {\n",
       "        text-align: right;\n",
       "    }\n",
       "</style>\n",
       "<table border=\"1\" class=\"dataframe\">\n",
       "  <thead>\n",
       "    <tr style=\"text-align: right;\">\n",
       "      <th></th>\n",
       "      <th>date</th>\n",
       "      <th>average_price</th>\n",
       "      <th>total_volume</th>\n",
       "      <th>small</th>\n",
       "      <th>medium</th>\n",
       "      <th>large</th>\n",
       "      <th>total_bags</th>\n",
       "      <th>small_bags</th>\n",
       "      <th>large_bags</th>\n",
       "      <th>xlarge_bags</th>\n",
       "      <th>type</th>\n",
       "      <th>year</th>\n",
       "      <th>geography</th>\n",
       "      <th>region</th>\n",
       "    </tr>\n",
       "  </thead>\n",
       "  <tbody>\n",
       "    <tr>\n",
       "      <th>0</th>\n",
       "      <td>2015-01-04</td>\n",
       "      <td>1.22</td>\n",
       "      <td>40873.28</td>\n",
       "      <td>2819.50</td>\n",
       "      <td>28287.42</td>\n",
       "      <td>49.90</td>\n",
       "      <td>9716.46</td>\n",
       "      <td>9186.93</td>\n",
       "      <td>529.53</td>\n",
       "      <td>0.0</td>\n",
       "      <td>conventional</td>\n",
       "      <td>2015</td>\n",
       "      <td>Albany</td>\n",
       "      <td>Northeast</td>\n",
       "    </tr>\n",
       "    <tr>\n",
       "      <th>1</th>\n",
       "      <td>2015-01-04</td>\n",
       "      <td>1.79</td>\n",
       "      <td>1373.95</td>\n",
       "      <td>57.42</td>\n",
       "      <td>153.88</td>\n",
       "      <td>0.00</td>\n",
       "      <td>1162.65</td>\n",
       "      <td>1162.65</td>\n",
       "      <td>0.00</td>\n",
       "      <td>0.0</td>\n",
       "      <td>organic</td>\n",
       "      <td>2015</td>\n",
       "      <td>Albany</td>\n",
       "      <td>Northeast</td>\n",
       "    </tr>\n",
       "    <tr>\n",
       "      <th>2</th>\n",
       "      <td>2015-01-04</td>\n",
       "      <td>1.00</td>\n",
       "      <td>435021.49</td>\n",
       "      <td>364302.39</td>\n",
       "      <td>23821.16</td>\n",
       "      <td>82.15</td>\n",
       "      <td>46815.79</td>\n",
       "      <td>16707.15</td>\n",
       "      <td>30108.64</td>\n",
       "      <td>0.0</td>\n",
       "      <td>conventional</td>\n",
       "      <td>2015</td>\n",
       "      <td>Atlanta</td>\n",
       "      <td>South</td>\n",
       "    </tr>\n",
       "    <tr>\n",
       "      <th>3</th>\n",
       "      <td>2015-01-04</td>\n",
       "      <td>1.76</td>\n",
       "      <td>3846.69</td>\n",
       "      <td>1500.15</td>\n",
       "      <td>938.35</td>\n",
       "      <td>0.00</td>\n",
       "      <td>1408.19</td>\n",
       "      <td>1071.35</td>\n",
       "      <td>336.84</td>\n",
       "      <td>0.0</td>\n",
       "      <td>organic</td>\n",
       "      <td>2015</td>\n",
       "      <td>Atlanta</td>\n",
       "      <td>South</td>\n",
       "    </tr>\n",
       "    <tr>\n",
       "      <th>4</th>\n",
       "      <td>2015-01-04</td>\n",
       "      <td>1.08</td>\n",
       "      <td>788025.06</td>\n",
       "      <td>53987.31</td>\n",
       "      <td>552906.04</td>\n",
       "      <td>39995.03</td>\n",
       "      <td>141136.68</td>\n",
       "      <td>137146.07</td>\n",
       "      <td>3990.61</td>\n",
       "      <td>0.0</td>\n",
       "      <td>conventional</td>\n",
       "      <td>2015</td>\n",
       "      <td>Baltimore/Washington</td>\n",
       "      <td>Northeast</td>\n",
       "    </tr>\n",
       "  </tbody>\n",
       "</table>\n",
       "</div>"
      ],
      "text/plain": [
       "         date  average_price  ...             geography     region\n",
       "0  2015-01-04           1.22  ...                Albany  Northeast\n",
       "1  2015-01-04           1.79  ...                Albany  Northeast\n",
       "2  2015-01-04           1.00  ...               Atlanta      South\n",
       "3  2015-01-04           1.76  ...               Atlanta      South\n",
       "4  2015-01-04           1.08  ...  Baltimore/Washington  Northeast\n",
       "\n",
       "[5 rows x 14 columns]"
      ]
     },
     "execution_count": null,
     "metadata": {},
     "output_type": "execute_result"
    }
   ],
   "source": []
  }
 ],
 "metadata": {
  "language_info": {
   "name": "python"
  }
 },
 "nbformat": 4,
 "nbformat_minor": 2
}
